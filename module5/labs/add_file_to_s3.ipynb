{
 "cells": [
  {
   "cell_type": "code",
   "execution_count": null,
   "metadata": {},
   "outputs": [],
   "source": [
    "import boto3\n",
    "import getpass\n",
    "\n",
    "system_user_name=getpass.getuser()\n",
    "\n",
    "s3 = boto3.resource('s3')\n",
    "bucket_name=\"DelayedFlights\"\n",
    "s3.create_bucket(Bucket=bucket_name)\n",
    "\n",
    "s3.Object(bucket_name, 'flights_new.csv').put(Body=open('flights.csv', 'rb'))"
   ]
  }
 ],
 "metadata": {
  "kernelspec": {
   "display_name": "Python 3",
   "language": "python",
   "name": "python3"
  },
  "language_info": {
   "codemirror_mode": {
    "name": "ipython",
    "version": 3
   },
   "file_extension": ".py",
   "mimetype": "text/x-python",
   "name": "python",
   "nbconvert_exporter": "python",
   "pygments_lexer": "ipython3",
   "version": "3.4.5"
  }
 },
 "nbformat": 4,
 "nbformat_minor": 2
}
