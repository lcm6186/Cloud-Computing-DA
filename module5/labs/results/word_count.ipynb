{
 "cells": [
  {
   "cell_type": "code",
   "execution_count": 5,
   "metadata": {
    "collapsed": true
   },
   "outputs": [],
   "source": [
    "import boto3\n",
    "s3 = boto3.resource('s3')"
   ]
  },
  {
   "cell_type": "code",
   "execution_count": 14,
   "metadata": {},
   "outputs": [
    {
     "data": {
      "text/plain": [
       "{'ETag': '\"edb4d94be5a9d18ef31ae5c9e2c6d38d\"',\n",
       " 'ResponseMetadata': {'HTTPHeaders': {'content-length': '0',\n",
       "   'date': 'Thu, 21 Sep 2017 22:05:28 GMT',\n",
       "   'etag': '\"edb4d94be5a9d18ef31ae5c9e2c6d38d\"',\n",
       "   'server': 'AmazonS3',\n",
       "   'x-amz-id-2': 'xxe55PKvQlCyyKrtJHpjmj76bwBo5XsDafd+SZJTJFe971pxwi8FonBegDl5PbGobpg6jOB5lPY=',\n",
       "   'x-amz-request-id': '31E373F596BF4A6C'},\n",
       "  'HTTPStatusCode': 200,\n",
       "  'HostId': 'xxe55PKvQlCyyKrtJHpjmj76bwBo5XsDafd+SZJTJFe971pxwi8FonBegDl5PbGobpg6jOB5lPY=',\n",
       "  'RequestId': '31E373F596BF4A6C',\n",
       "  'RetryAttempts': 0}}"
      ]
     },
     "execution_count": 14,
     "metadata": {},
     "output_type": "execute_result"
    }
   ],
   "source": [
    "# Upload the tweets file to s3\n",
    "\n",
    "s3.Object('dsabucket1', 'tweets_wc/input/tweets.txt').put(Body=open('tweets.txt', 'rb'))"
   ]
  },
  {
   "cell_type": "code",
   "execution_count": 7,
   "metadata": {},
   "outputs": [
    {
     "data": {
      "text/plain": [
       "{'ETag': '\"5f93014336348c4da2a64b38f034df11\"',\n",
       " 'ResponseMetadata': {'HTTPHeaders': {'content-length': '0',\n",
       "   'date': 'Thu, 21 Sep 2017 21:44:22 GMT',\n",
       "   'etag': '\"5f93014336348c4da2a64b38f034df11\"',\n",
       "   'server': 'AmazonS3',\n",
       "   'x-amz-id-2': 'oq8P/iKg7Nx9eBMU+ehSNYCeZ9xz7pBpPHChlVQT5c/3v6zKW/XxbkG0v1FN2gerNi6M9sas2I8=',\n",
       "   'x-amz-request-id': '849B5EAE8DD3D2F6'},\n",
       "  'HTTPStatusCode': 200,\n",
       "  'HostId': 'oq8P/iKg7Nx9eBMU+ehSNYCeZ9xz7pBpPHChlVQT5c/3v6zKW/XxbkG0v1FN2gerNi6M9sas2I8=',\n",
       "  'RequestId': '849B5EAE8DD3D2F6',\n",
       "  'RetryAttempts': 0}}"
      ]
     },
     "execution_count": 7,
     "metadata": {},
     "output_type": "execute_result"
    }
   ],
   "source": [
    "# Upload the tweetSplitter python code file to s3\n",
    "\n",
    "s3.Object('dsabucket1', 'tweetSplitter.py').put(Body=open('tweetSplitter.py', 'rb'))"
   ]
  },
  {
   "cell_type": "code",
   "execution_count": 15,
   "metadata": {},
   "outputs": [
    {
     "data": {
      "text/plain": [
       "{'ETag': '\"d41d8cd98f00b204e9800998ecf8427e\"',\n",
       " 'ResponseMetadata': {'HTTPHeaders': {'content-length': '0',\n",
       "   'date': 'Thu, 21 Sep 2017 22:05:32 GMT',\n",
       "   'etag': '\"d41d8cd98f00b204e9800998ecf8427e\"',\n",
       "   'server': 'AmazonS3',\n",
       "   'x-amz-id-2': 'UQP8VtHk7372qeHuNXiacgXtyOwS/CHz5Zg/iR7krPcGf7aEwVq+9ky5h9fCVoi6NbtLA99AQgI=',\n",
       "   'x-amz-request-id': '51A679F328B7385A'},\n",
       "  'HTTPStatusCode': 200,\n",
       "  'HostId': 'UQP8VtHk7372qeHuNXiacgXtyOwS/CHz5Zg/iR7krPcGf7aEwVq+9ky5h9fCVoi6NbtLA99AQgI=',\n",
       "  'RequestId': '51A679F328B7385A',\n",
       "  'RetryAttempts': 0}}"
      ]
     },
     "execution_count": 15,
     "metadata": {},
     "output_type": "execute_result"
    }
   ],
   "source": [
    "# Create an empty output directory\n",
    "\n",
    "s3.Object('dsabucket1', 'tweets_wc/output/').put(Body='')"
   ]
  },
  {
   "cell_type": "code",
   "execution_count": null,
   "metadata": {
    "collapsed": true
   },
   "outputs": [],
   "source": [
    "aws s3 sync s3://mybucket/tweet-wc/output/ tweet-wc/output/"
   ]
  },
  {
   "cell_type": "code",
   "execution_count": null,
   "metadata": {
    "collapsed": true
   },
   "outputs": [],
   "source": []
  }
 ],
 "metadata": {
  "kernelspec": {
   "display_name": "Python 3",
   "language": "python",
   "name": "python3"
  },
  "language_info": {
   "codemirror_mode": {
    "name": "ipython",
    "version": 3
   },
   "file_extension": ".py",
   "mimetype": "text/x-python",
   "name": "python",
   "nbconvert_exporter": "python",
   "pygments_lexer": "ipython3",
   "version": "3.4.5"
  }
 },
 "nbformat": 4,
 "nbformat_minor": 2
}
