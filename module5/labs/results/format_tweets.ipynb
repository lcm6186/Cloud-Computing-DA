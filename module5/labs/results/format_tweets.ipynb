{
 "cells": [
  {
   "cell_type": "code",
   "execution_count": 28,
   "metadata": {
    "collapsed": true
   },
   "outputs": [],
   "source": [
    "import sys\n",
    "import json\n",
    "\n",
    "f = open(\"tweets_data.json\",\"r\")\n",
    "data = json.load(f)\n",
    "f.close()\n",
    "\n",
    "output_file = open(\"tweets.txt\",\"w\")    \n",
    "\n",
    "for tweet in data[\"tweets\"]:\n",
    "    language = tweet[\"metadata\"][\"iso_language_code\"].encode('utf-8')\n",
    "    text = tweet[\"text\"].replace(\"\\n\",\" \")\n",
    "#     print(\"#iso-\"+language.decode('utf-8')+\" \"+str(text.encode('utf-8')))\n",
    "    output_file.write(\"#iso-\"+language.decode('utf-8')+\" \"+str(text.encode('utf-8'))+'\\n') \n",
    "\n",
    "output_file.close()"
   ]
  }
 ],
 "metadata": {
  "kernelspec": {
   "display_name": "Python 3",
   "language": "python",
   "name": "python3"
  },
  "language_info": {
   "codemirror_mode": {
    "name": "ipython",
    "version": 3
   },
   "file_extension": ".py",
   "mimetype": "text/x-python",
   "name": "python",
   "nbconvert_exporter": "python",
   "pygments_lexer": "ipython3",
   "version": "3.4.5"
  }
 },
 "nbformat": 4,
 "nbformat_minor": 2
}
