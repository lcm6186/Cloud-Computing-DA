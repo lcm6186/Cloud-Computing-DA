{
 "cells": [
  {
   "cell_type": "code",
   "execution_count": 16,
   "metadata": {
    "collapsed": true
   },
   "outputs": [],
   "source": [
    "import os\n",
    "import zipfile\n",
    "\n",
    "stream_name = 'twitter_stream2'\n",
    "\n",
    "\n",
    "zf = zipfile.ZipFile(\"lambda.zip\", \"w\")\n",
    "zf.write('lambda.py')\n",
    "zf.close()"
   ]
  },
  {
   "cell_type": "code",
   "execution_count": 17,
   "metadata": {
    "collapsed": true
   },
   "outputs": [],
   "source": [
    "import base64\n",
    "import json\n",
    "\n",
    "def lambda_handler(event, context):\n",
    "    print(\"Received event: \" + json.dumps(event))\n",
    "    for record in event['Records']:\n",
    "        # Kinesis data is base64 encoded so decode here\n",
    "        payload = base64.b64decode(record['kinesis']['data'])\n",
    "        print(\"Decoded payload: \" + payload)\n",
    "    return 'Successfully processed {} records.'.format(len(event['Records']))"
   ]
  },
  {
   "cell_type": "code",
   "execution_count": 18,
   "metadata": {
    "collapsed": true
   },
   "outputs": [],
   "source": [
    "#!/usr/bin/env python\n",
    "\n",
    "import time\n",
    "import json\n",
    "import boto3\n",
    "\n",
    "kinesis = boto3.client('kinesis')\n",
    "iam = boto3.client('iam')\n",
    "l = boto3.client('lambda')\n",
    "\n",
    "def create_stream(name):\n",
    "    \"\"\" Create kinesis stream, and wait until it is active \"\"\"\n",
    "    if name not in [f for f in kinesis.list_streams()['StreamNames']]:\n",
    "        print('Creating Kinesis stream %s' % (name))\n",
    "        kinesis.create_stream(StreamName=name, ShardCount=1)\n",
    "    else:\n",
    "        print('Kinesis stream %s exists' % (name))\n",
    "    while kinesis.describe_stream(StreamName=name)['StreamDescription']['StreamStatus'] == 'CREATING':\n",
    "        time.sleep(2)\n",
    "    return kinesis.describe_stream(StreamName=name)['StreamDescription']\n",
    "\n",
    "\n",
    "def create_role(name, policies=None):\n",
    "    \"\"\" Create a role with an optional inline policy \"\"\"\n",
    "    policydoc = {\n",
    "        \"Version\": \"2012-10-17\",\n",
    "        \"Statement\": [\n",
    "            {\"Effect\": \"Allow\", \"Principal\": {\"Service\": [\"lambda.amazonaws.com\"]}, \"Action\": [\"sts:AssumeRole\"]},\n",
    "        ]\n",
    "    }\n",
    "    roles = [r['RoleName'] for r in iam.list_roles()['Roles']]\n",
    "    if name in roles:\n",
    "        print('IAM role %s exists' % (name))\n",
    "        role = iam.get_role(RoleName=name)['Role']\n",
    "    else:\n",
    "        print('Creating IAM role %s' % (name))\n",
    "        role = iam.create_role(RoleName=name, AssumeRolePolicyDocument=json.dumps(policydoc))['Role']\n",
    "\n",
    "    # attach managed policy\n",
    "    if policies is not None:\n",
    "        for p in policies:\n",
    "            iam.attach_role_policy(RoleName=role['RoleName'], PolicyArn=p)\n",
    "    return role\n",
    "\n",
    "\n",
    "def create_function(name, zfile, lsize=512, timeout=10, update=False):\n",
    "    \"\"\" Create, or update if exists, lambda function \"\"\"\n",
    "    role = create_role(name + '_lambda', policies=['arn:aws:iam::aws:policy/service-role/AWSLambdaKinesisExecutionRole'])\n",
    "    time.sleep(10)\n",
    "    with open(zfile, 'rb') as zipfile:\n",
    "        if name in [f['FunctionName'] for f in l.list_functions()['Functions']]:\n",
    "            if update:\n",
    "                print('Updating %s lambda function code' % (name))\n",
    "                return l.update_function_code(FunctionName=name, ZipFile=zipfile.read())\n",
    "            else:\n",
    "                print('Lambda function %s exists' % (name))\n",
    "                for f in funcs:\n",
    "                    if f['FunctionName'] == name:\n",
    "                        lfunc = f\n",
    "        else:\n",
    "            print('Creating %s lambda function' % (name))\n",
    "            lfunc = l.create_function(\n",
    "                FunctionName=name,\n",
    "                Runtime='python2.7',\n",
    "                Role=role['Arn'],\n",
    "                Handler='lambda.lambda_handler',\n",
    "                Description='Example lambda function to ingest a Kinesis stream',\n",
    "                Timeout=timeout,\n",
    "                MemorySize=lsize,\n",
    "                Publish=True,\n",
    "                Code={'ZipFile': zipfile.read()},\n",
    "            )\n",
    "        lfunc['Role'] = role\n",
    "        return lfunc\n",
    "\n",
    "def create_mapping(name, stream):\n",
    "    \"\"\" add a mapping to a stream \"\"\"\n",
    "    sources = l.list_event_source_mappings(FunctionName=name,\n",
    "                                           EventSourceArn=stream['StreamARN'])['EventSourceMappings']\n",
    "    if stream['StreamARN'] not in [s['EventSourceArn'] for s in sources]:\n",
    "        source = l.create_event_source_mapping(FunctionName=name, EventSourceArn=stream['StreamARN'],\n",
    "                                      StartingPosition='TRIM_HORIZON')\n",
    "    else:\n",
    "        for s in sources:\n",
    "            source = s\n",
    "    return source"
   ]
  },
  {
   "cell_type": "code",
   "execution_count": 19,
   "metadata": {},
   "outputs": [
    {
     "name": "stdout",
     "output_type": "stream",
     "text": [
      "Kinesis stream alonzo exists\n",
      "IAM role alonzo_lambda exists\n",
      "Updating alonzo lambda function code\n"
     ]
    },
    {
     "data": {
      "text/plain": [
       "{'BatchSize': 100,\n",
       " 'EventSourceArn': 'arn:aws:kinesis:us-east-1:714861692883:stream/alonzo',\n",
       " 'FunctionArn': 'arn:aws:lambda:us-east-1:714861692883:function:alonzo',\n",
       " 'LastModified': datetime.datetime(2017, 11, 6, 15, 48, tzinfo=tzlocal()),\n",
       " 'LastProcessingResult': 'No records processed',\n",
       " 'State': 'Enabled',\n",
       " 'StateTransitionReason': 'User action',\n",
       " 'UUID': '9cfe3181-99d7-4028-88ce-75619d93e1e1'}"
      ]
     },
     "execution_count": 19,
     "metadata": {},
     "output_type": "execute_result"
    }
   ],
   "source": [
    "name = 'alonzo'\n",
    "\n",
    "# create kinesis stream\n",
    "stream = create_stream(name)\n",
    "\n",
    "# Create a lambda function\n",
    "lfunc = create_function(name, 'lambda.zip', update=True)\n",
    "\n",
    "# add mapping to kinesis stream\n",
    "create_mapping(name, stream)"
   ]
  },
  {
   "cell_type": "code",
   "execution_count": 20,
   "metadata": {
    "collapsed": true
   },
   "outputs": [],
   "source": [
    "# aws kinesis put-record --stream-name alonzo --data \"{'0': 'the', '1': 'lambda', '2': 'calculus'}\"\n",
    "\n",
    "response = kinesis.put_record(\n",
    "    StreamName='twitter',\n",
    "    Data=\"{'0': 'the', '1': 'lambda', '2': 'calculus'}\",\n",
    "    PartitionKey='1'\n",
    "#     ExplicitHashKey='string',\n",
    "#     SequenceNumberForOrdering='string'\n",
    ")"
   ]
  },
  {
   "cell_type": "code",
   "execution_count": null,
   "metadata": {
    "collapsed": true
   },
   "outputs": [],
   "source": []
  }
 ],
 "metadata": {
  "kernelspec": {
   "display_name": "Python 3",
   "language": "python",
   "name": "python3"
  },
  "language_info": {
   "codemirror_mode": {
    "name": "ipython",
    "version": 3
   },
   "file_extension": ".py",
   "mimetype": "text/x-python",
   "name": "python",
   "nbconvert_exporter": "python",
   "pygments_lexer": "ipython3",
   "version": "3.4.5"
  }
 },
 "nbformat": 4,
 "nbformat_minor": 2
}
