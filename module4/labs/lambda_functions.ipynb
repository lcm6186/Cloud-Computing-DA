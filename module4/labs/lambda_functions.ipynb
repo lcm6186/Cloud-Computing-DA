{
 "cells": [
  {
   "cell_type": "markdown",
   "metadata": {},
   "source": [
    "# AWS Lambda Functions\n",
    "\n",
    "Many web developers are familiar with AWS’s S3 buckets for storage and EC2 instances for running applications but AWS has come a long way beyond S3 and EC2. There are higher level services introduced in recent past that greatly simplify cloud services, at a cheaper cost, and requiring little maintenance.\n",
    "\n",
    "Many a times there would be large spikes of activity on a website or application and far less activity during rest of the time. In order to serve the high traffic of data during these spikes we will be running many EC2 instances, but during lulls its not economical to run those EC2 instances. Lambda functions prove to be the optimal solution to solve this problem.\n",
    "\n",
    "In this notebook, we will deploy Lambda functions on AWS."
   ]
  },
  {
   "cell_type": "markdown",
   "metadata": {},
   "source": [
    "## AWS Lambda functions\n",
    "\n",
    "An AWS Lambda function is a collection of code with a single entry point, or handler, and can be written in either Node.js, Python (2.7 or higher), or Java (8). They take a single input. A Lambda function, generally, can be thought of as a simple function taking a single input and performing some transformation. They are not restricted to simple operations. They can be quite complex, since libraries can be uploaded to the function. The Lambda function works by being configured to fire in response to some event, such as data added to a AWS Kinesis stream, or files uploaded to an S3 bucket. Behind the scenes, Amazon stores the Lambda function code and configuration on S3 and when an event fires, it creates (or possibly reuses) a container, and passes the event data to the function handler.\n",
    "\n",
    "With this architecture AWS handles the management of the function and gives users three main advantages:\n",
    "\n",
    "### Serverless (simple)\n",
    "\n",
    "Lambda functions don’t require the maintenance of a server. The resources a lambda function uses is set only by specifying it’s memory usage, from 128 MB to 1536 MB. CPU speed is scaled as memory goes up and the memory allocation can be changed at any time.\n",
    "\n",
    "### Auto-scaling (smart)\n",
    "\n",
    "There is no scaling to enable or to configure. Lambda functions spawn as necessary to keep up with the pace of events, although bandwidth may be restricted depending on other services accessed (e.g., bandwidth to a Kinesis stream is based on number of shards in the stream).\n",
    "\n",
    "### Cost-effective (cheap)\n",
    "\n",
    "Compared to an EC2 instance which is up 24/7 and incurring costs, you are only charged based on how much the function runs, with no costs when it is not running. Furthermore, a function that has been allocated 512 GB of memory only costs 3 cents for every hour of computation. For a function that takes 1 second, those 3 cents can buy you over 3000 invocations of your function. Even for large scale operations, that are performing millions of functions a month, the cost will still typically be less than $20.\n",
    "\n"
   ]
  },
  {
   "cell_type": "markdown",
   "metadata": {},
   "source": [
    "### Deploying Lambda functions with Python and boto3\n",
    "\n",
    "The AWS console is a great way to get started on Lambda functions. It steps you through the process of creating one and includes templates for different languages. However the AWS console lacks an automated way to add new functions and update existing ones. The AWS CLI (command line interface) can be automated, however when the Lambda functions are complex (for instance, when they require event source mappings and IAM roles and policies) doing these actions in Python scripts using boto3 is easier.\n",
    "\n",
    "Using a simple example, I’ll demonstrate how to use boto3 to create a function with an associated role and policies, and how to update that code via Python scripts. We’ll start with a simplified version of one of the AWS Lambda example templates in the file lambda.py.\n",
    "\n",
    "The example is taken from [this post](https://developmentseed.org/blog/2016/03/08/aws-lambda-functions/)"
   ]
  },
  {
   "cell_type": "code",
   "execution_count": 2,
   "metadata": {
    "collapsed": true
   },
   "outputs": [],
   "source": [
    "import os\n",
    "import zipfile\n",
    "\n",
    "stream_name = 'twitter_stream2'\n",
    "\n",
    "\n",
    "zf = zipfile.ZipFile(\"lambda.zip\", \"w\")\n",
    "zf.write('lambda.py')\n",
    "zf.close()"
   ]
  },
  {
   "cell_type": "markdown",
   "metadata": {},
   "source": [
    "Below python script will create a Kinesis stream, an IAM access role and create a Lambda function with the zip file as input, then finally map the stream to the Lambda function."
   ]
  },
  {
   "cell_type": "code",
   "execution_count": 1,
   "metadata": {},
   "outputs": [
    {
     "ename": "NameError",
     "evalue": "name 'stream_name' is not defined",
     "output_type": "error",
     "traceback": [
      "\u001b[0;31m---------------------------------------------------------------------------\u001b[0m",
      "\u001b[0;31mNameError\u001b[0m                                 Traceback (most recent call last)",
      "\u001b[0;32m<ipython-input-1-6753a8bd1f75>\u001b[0m in \u001b[0;36m<module>\u001b[0;34m()\u001b[0m\n\u001b[1;32m     92\u001b[0m \u001b[0;34m\u001b[0m\u001b[0m\n\u001b[1;32m     93\u001b[0m \u001b[0;31m# create kinesis stream\u001b[0m\u001b[0;34m\u001b[0m\u001b[0;34m\u001b[0m\u001b[0m\n\u001b[0;32m---> 94\u001b[0;31m \u001b[0mstream\u001b[0m \u001b[0;34m=\u001b[0m \u001b[0mcreate_stream\u001b[0m\u001b[0;34m(\u001b[0m\u001b[0mstream_name\u001b[0m\u001b[0;34m)\u001b[0m\u001b[0;34m\u001b[0m\u001b[0m\n\u001b[0m\u001b[1;32m     95\u001b[0m \u001b[0;34m\u001b[0m\u001b[0m\n\u001b[1;32m     96\u001b[0m \u001b[0;31m# Create a lambda function\u001b[0m\u001b[0;34m\u001b[0m\u001b[0;34m\u001b[0m\u001b[0m\n",
      "\u001b[0;31mNameError\u001b[0m: name 'stream_name' is not defined"
     ]
    }
   ],
   "source": [
    "import time\n",
    "import json\n",
    "import boto3\n",
    "\n",
    "kinesis = boto3.client('kinesis')\n",
    "iam = boto3.client('iam')\n",
    "lamb = boto3.client('lambda')\n",
    "\n",
    "def create_stream(name):\n",
    "    \"\"\" Create kinesis stream, and wait until it is active \"\"\"\n",
    "    if name not in [f for f in kinesis.list_streams()['StreamNames']]:\n",
    "        print('Creating Kinesis stream %s' % (name))\n",
    "        kinesis.create_stream(StreamName=name, ShardCount=1)\n",
    "    else:\n",
    "        print('Kinesis stream %s exists' % (name))\n",
    "    while kinesis.describe_stream(StreamName=name)['StreamDescription']['StreamStatus'] == 'CREATING':\n",
    "        time.sleep(2)\n",
    "    return kinesis.describe_stream(StreamName=name)['StreamDescription']\n",
    "\n",
    "\n",
    "def create_role(name, policies=None):\n",
    "    \"\"\" Create a role with an optional inline policy \"\"\"\n",
    "    policydoc = {\n",
    "        \"Version\": \"2012-10-17\",\n",
    "        \"Statement\": [\n",
    "            {\"Effect\": \"Allow\", \"Principal\": {\"Service\": [\"lambda.amazonaws.com\"]}, \"Action\": [\"sts:AssumeRole\"]},\n",
    "        ]\n",
    "    }\n",
    "    roles = [r['RoleName'] for r in iam.list_roles()['Roles']]\n",
    "    if name in roles:\n",
    "        print('IAM role %s exists' % (name))\n",
    "        role = iam.get_role(RoleName=name)['Role']\n",
    "    else:\n",
    "        print('Creating IAM role %s' % (name))\n",
    "        role = iam.create_role(RoleName=name, AssumeRolePolicyDocument=json.dumps(policydoc))['Role']\n",
    "\n",
    "    # attach managed policy\n",
    "    if policies is not None:\n",
    "        for p in policies:\n",
    "            iam.attach_role_policy(RoleName=role['RoleName'], PolicyArn=p)\n",
    "    return role\n",
    "\n",
    "\n",
    "def create_function(name, zfile, lsize=512, timeout=120, update=False):\n",
    "    \"\"\" Create, or update if exists, lambda function \"\"\"\n",
    "    role = create_role(name + '_lambda', policies=['arn:aws:iam::aws:policy/service-role/AWSLambdaKinesisExecutionRole'])\n",
    "    print(\"role:\",role)\n",
    "    \n",
    "    with open(zfile, 'rb') as zipfile:\n",
    "        if name in [f['FunctionName'] for f in lamb.list_functions()['Functions']]:\n",
    "            if update:\n",
    "                print('Updating %s lambda function code' % (name))\n",
    "                return lamb.update_function_code(FunctionName=name, ZipFile=zipfile.read())\n",
    "            else:\n",
    "                print('Lambda function %s exists' % (name))\n",
    "                for f in funcs:\n",
    "                    if f['FunctionName'] == name:\n",
    "                        lfunc = f\n",
    "        else:\n",
    "            print('Creating %s lambda function' % (name))\n",
    "            lfunc = lamb.create_function(\n",
    "                FunctionName=name,\n",
    "                Runtime='python3.6',\n",
    "                Role=role['Arn'],\n",
    "                Handler='lambda.lambda_handler',\n",
    "                Description='Example lambda function to ingest a Kinesis stream',\n",
    "                Timeout=timeout,\n",
    "                MemorySize=lsize,\n",
    "                Publish=True,\n",
    "                Code={'ZipFile': zipfile.read()},\n",
    "            )\n",
    "        lfunc['Role'] = role\n",
    "        return lfunc\n",
    "\n",
    "def create_mapping(name, stream):\n",
    "    \"\"\" add a mapping to a stream \"\"\"\n",
    "    print(\"checking event source mappings\")\n",
    "    sources = lamb.list_event_source_mappings(FunctionName=name,\n",
    "                                           EventSourceArn=stream['StreamARN'])['EventSourceMappings']\n",
    "    for s in sources:\n",
    "        print(s)\n",
    "        \n",
    "    if stream['StreamARN'] not in [s['EventSourceArn'] for s in sources]:\n",
    "        print(\"stream not present in event sources\")\n",
    "        source = lamb.create_event_source_mapping(FunctionName=name, EventSourceArn=stream['StreamARN'],\n",
    "                                      StartingPosition='TRIM_HORIZON')\n",
    "    else:\n",
    "        for s in sources:\n",
    "            source = s\n",
    "    return source\n",
    "\n",
    "\n",
    "# create kinesis stream\n",
    "stream = create_stream(stream_name)\n",
    "\n",
    "# Create a lambda function\n",
    "lfunc = create_function(stream_name, 'lambda.zip', update=True)"
   ]
  },
  {
   "cell_type": "code",
   "execution_count": null,
   "metadata": {
    "collapsed": true
   },
   "outputs": [],
   "source": [
    "response = lamb.list_functions(\n",
    "    FunctionVersion='ALL'\n",
    ")\n",
    "if lfunc['FunctionName'] in [s['FunctionName'] for s in response['Functions']]:\n",
    "    print('function is created')"
   ]
  },
  {
   "cell_type": "code",
   "execution_count": null,
   "metadata": {
    "collapsed": true
   },
   "outputs": [],
   "source": [
    "# add mapping to kinesis stream\n",
    "create_mapping(stream_name, stream)"
   ]
  },
  {
   "cell_type": "code",
   "execution_count": 1,
   "metadata": {},
   "outputs": [
    {
     "ename": "NameError",
     "evalue": "name 'kinesis' is not defined",
     "output_type": "error",
     "traceback": [
      "\u001b[0;31m---------------------------------------------------------------------------\u001b[0m",
      "\u001b[0;31mNameError\u001b[0m                                 Traceback (most recent call last)",
      "\u001b[0;32m<ipython-input-1-f5260d32bd7a>\u001b[0m in \u001b[0;36m<module>\u001b[0;34m()\u001b[0m\n\u001b[1;32m      2\u001b[0m \u001b[0;34m\u001b[0m\u001b[0m\n\u001b[1;32m      3\u001b[0m \u001b[0;34m\u001b[0m\u001b[0m\n\u001b[0;32m----> 4\u001b[0;31m response = kinesis.put_record(\n\u001b[0m\u001b[1;32m      5\u001b[0m     \u001b[0mStreamName\u001b[0m\u001b[0;34m=\u001b[0m\u001b[0;34m'twitter'\u001b[0m\u001b[0;34m,\u001b[0m\u001b[0;34m\u001b[0m\u001b[0m\n\u001b[1;32m      6\u001b[0m     \u001b[0mData\u001b[0m\u001b[0;34m=\u001b[0m\u001b[0;34m\"This is for testing lambda\"\u001b[0m\u001b[0;34m,\u001b[0m\u001b[0;34m\u001b[0m\u001b[0m\n",
      "\u001b[0;31mNameError\u001b[0m: name 'kinesis' is not defined"
     ]
    }
   ],
   "source": [
    "# aws kinesis put-record --stream-name alonzo --data \"{'0': 'the', '1': 'lambda', '2': 'calculus'}\"\n",
    "\n",
    "\n",
    "response = kinesis.put_record(\n",
    "    StreamName='twitter',\n",
    "    Data=\"{'0': 'the', '1': 'lambda', '2': 'calculus'}\",\n",
    "    PartitionKey='1'\n",
    "#     ExplicitHashKey='string',\n",
    "#     SequenceNumberForOrdering='string'\n",
    ")"
   ]
  },
  {
   "cell_type": "code",
   "execution_count": null,
   "metadata": {
    "collapsed": true
   },
   "outputs": [],
   "source": [
    "from TwitterAPI import TwitterAPI\n",
    "import boto3\n",
    "import json\n",
    "import twitterCreds\n",
    "\n",
    "## twitter credentials\n",
    "\n",
    "consumer_key = twitterCreds.consumer_key\n",
    "consumer_secret = twitterCreds.consumer_secret\n",
    "access_token_key = twitterCreds.access_token_key\n",
    "access_token_secret = twitterCreds.access_token_secret\n",
    "\n",
    "api = TwitterAPI(consumer_key, consumer_secret, access_token_key, access_token_secret)\n",
    "\n",
    "# kinesis = boto3.client('kinesis')\n",
    "\n",
    "# r = api.request('statuses/filter', {'track':'modi'})\n",
    "# # print(r)\n",
    "# tweets = []\n",
    "# count = 0\n",
    "# for item in r:\n",
    "#     jsonItem = json.dumps(item)\n",
    "#     print(jsonItem)\n",
    "#     tweets.append({'Data':jsonItem[0], 'PartitionKey':\"filler\"})\n",
    "#     count += 1\n",
    "#     if count == 100:\n",
    "#         print(count)\n",
    "#         kinesis.put_records(StreamName=\"twitter\", Records=tweets)\n",
    "# #         print(tweets[1])\n",
    "#         count = 0\n",
    "#         tweets = []\n",
    "        \n",
    "r = api.request('statuses/filter', {'track': 'modi'})\n",
    "\n",
    "# Writes new tweets into Kinesis\n",
    "for item in r:\n",
    "    if 'text' in item:\n",
    "        kinesis.put_record(StreamName='twitter', Data=json.dumps(item), PartitionKey=item['user']['screen_name'])\n",
    "        print item['text']"
   ]
  },
  {
   "cell_type": "code",
   "execution_count": null,
   "metadata": {
    "collapsed": true
   },
   "outputs": [],
   "source": [
    "type(tweets[0]['Data'])"
   ]
  },
  {
   "cell_type": "markdown",
   "metadata": {},
   "source": [
    "We should have an IAM role named sai_lambda, and a Kinesis stream and lambda function named sai. Print the response variable."
   ]
  },
  {
   "cell_type": "code",
   "execution_count": null,
   "metadata": {
    "collapsed": true
   },
   "outputs": [],
   "source": [
    "response"
   ]
  },
  {
   "cell_type": "markdown",
   "metadata": {},
   "source": [
    "The JSON response has the ShardId. You can go to CloudWatch in AWS web interface and check the logs to see if the function worked. Under Logs there should be an `\"/aws/lambda/sai\"` log group. Within that are different log streams. New log streams will be created periodically, but a single log stream may hold the logs from more than a single invocation of the function. You should see the output of the event and the decoded JSON we went into the stream.\n",
    "\n",
    "While Lambda functions cost nothing when not running, it is typically used in a system where there are other resources which do cost something. Kinesis streams are charged per hour per shard. This example only creates a single shard so sai stream will cost $0.36 a day. Make sure to delete the resource once done playing with it."
   ]
  },
  {
   "cell_type": "code",
   "execution_count": null,
   "metadata": {
    "collapsed": true
   },
   "outputs": [],
   "source": [
    "response = kinesis.delete_stream(\n",
    "    StreamName='sai'\n",
    ")"
   ]
  },
  {
   "cell_type": "code",
   "execution_count": null,
   "metadata": {
    "collapsed": true
   },
   "outputs": [],
   "source": [
    "response"
   ]
  }
 ],
 "metadata": {
  "kernelspec": {
   "display_name": "Python 3",
   "language": "python",
   "name": "python3"
  },
  "language_info": {
   "codemirror_mode": {
    "name": "ipython",
    "version": 3
   },
   "file_extension": ".py",
   "mimetype": "text/x-python",
   "name": "python",
   "nbconvert_exporter": "python",
   "pygments_lexer": "ipython3",
   "version": "3.4.5"
  }
 },
 "nbformat": 4,
 "nbformat_minor": 2
}
