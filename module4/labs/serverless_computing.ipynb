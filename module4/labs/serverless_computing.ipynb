{
 "cells": [
  {
   "cell_type": "markdown",
   "metadata": {},
   "source": [
    "# AWS Lambda Functions\n",
    "\n",
    "Many web developers are familiar with AWS’s S3 buckets for storage and EC2 instances for running applications but AWS has come a long way beyond S3 and EC2. There are higher level services introduced in recent past that greatly simplify cloud services, at a cheaper cost, and requiring little maintenance.\n",
    "\n",
    "Many a times there would be large spikes of activity on a website or application and far less activity during rest of the time. In order to serve the high traffic of data during these spikes we will be running many EC2 instances, but during lulls its not economical to run those EC2 instances. Lambda functions prove to be the optimal solution to solve this problem.\n",
    "\n",
    "In this notebook, we will deploy Lambda functions on AWS."
   ]
  },
  {
   "cell_type": "markdown",
   "metadata": {},
   "source": [
    "## AWS Lambda functions\n",
    "\n",
    "An AWS Lambda function is a collection of code with a single entry point, or handler, and can be written in either Node.js, Python (2.7 or higher), or Java (8). They take a single input. A Lambda function, generally, can be thought of as a simple function taking a single input and performing some transformation. They are not restricted to simple operations. They can be quite complex, since libraries can be uploaded to the function. The Lambda function works by being configured to fire in response to some event, such as data added to a AWS Kinesis stream, or files uploaded to an S3 bucket. Behind the scenes, Amazon stores the Lambda function code and configuration on S3 and when an event fires, it creates (or possibly reuses) a container, and passes the event data to the function handler.\n",
    "\n",
    "With this architecture AWS handles the management of the function and gives users three main advantages:\n",
    "\n",
    "### Serverless (simple)\n",
    "\n",
    "Lambda functions don’t require the maintenance of a server. The resources a lambda function uses is set only by specifying it’s memory usage, from 128 MB to 1536 MB. CPU speed is scaled as memory goes up and the memory allocation can be changed at any time.\n",
    "\n",
    "### Auto-scaling (smart)\n",
    "\n",
    "There is no scaling to enable or to configure. Lambda functions spawn as necessary to keep up with the pace of events, although bandwidth may be restricted depending on other services accessed (e.g., bandwidth to a Kinesis stream is based on number of shards in the stream).\n",
    "\n",
    "### Cost-effective (cheap)\n",
    "\n",
    "Compared to an EC2 instance which is up 24/7 and incurring costs, you are only charged based on how much the function runs, with no costs when it is not running. Furthermore, a function that has been allocated 512 GB of memory only costs 3 cents for every hour of computation. For a function that takes 1 second, those 3 cents can buy you over 3000 invocations of your function. Even for large scale operations, that are performing millions of functions a month, the cost will still typically be less than $20.\n",
    "\n"
   ]
  },
  {
   "cell_type": "markdown",
   "metadata": {},
   "source": [
    "### Deploying Lambda functions with Python and boto3\n",
    "\n",
    "The AWS console is a great way to get started on Lambda functions. It steps you through the process of creating one and includes templates for different languages. However the AWS console lacks an automated way to add new functions and update existing ones. The AWS CLI (command line interface) can be automated, however when the Lambda functions are complex (for instance, when they require event source mappings and IAM roles and policies) doing these actions in Python scripts using boto3 is easier.\n",
    "\n",
    "Using a simple example, I’ll demonstrate how to use boto3 to create a function with an associated role and policies, and how to update that code via Python scripts. We’ll start with a simplified version of one of the AWS Lambda example templates in the file lambda.py.\n",
    "\n",
    "The example is taken from [this post](https://developmentseed.org/blog/2016/03/08/aws-lambda-functions/)"
   ]
  },
  {
   "cell_type": "markdown",
   "metadata": {},
   "source": [
    "[Serverless Cross Account Stream Replication Using AWS Lambda, Amazon DynamoDB, and Amazon Kinesis Firehose](https://aws.amazon.com/blogs/compute/serverless-cross-account-stream-replication-using-aws-lambda-amazon-dynamodb-and-amazon-kinesis-firehose/)\n",
    "\n"
   ]
  },
  {
   "cell_type": "code",
   "execution_count": 1,
   "metadata": {
    "collapsed": true
   },
   "outputs": [],
   "source": [
    "import boto3\n",
    "import botocore\n",
    "\n",
    "# dynamodb = boto3.client('dynamodb')\n",
    "client = boto3.client('dynamodb')\n",
    "dynamodb = boto3.resource('dynamodb')"
   ]
  },
  {
   "cell_type": "code",
   "execution_count": 2,
   "metadata": {
    "collapsed": true
   },
   "outputs": [],
   "source": [
    "def create_dynamodb_table(table_name, key_name,KeyType):\n",
    "    try:\n",
    "        response = client.describe_table(TableName=table_name)\n",
    "    except botocore.exceptions.ClientError as e:\n",
    "        print(\"DynamoDB table '\" + table_name + \"' does not appear to exist, creating...\")\n",
    "        table = dynamodb.create_table(\n",
    "                    TableName = table_name,\n",
    "                    KeySchema = [ { 'AttributeName': key_name,\n",
    "                                    'KeyType': 'HASH'  } ], # Partition key\n",
    "                    AttributeDefinitions = [ \n",
    "                                  { 'AttributeName': key_name,\n",
    "                                  'AttributeType': KeyType \n",
    "                                  } ],\n",
    "                    ProvisionedThroughput = { 'ReadCapacityUnits': 20,\n",
    "                                              'WriteCapacityUnits': 20 }\n",
    "                )\n",
    "        # Wait until the table exists.\n",
    "        table.meta.client.get_waiter('table_exists').wait(TableName=table_name) \n",
    "        print(\"DynamoDB table '\" + table_name + \"' created.\")"
   ]
  },
  {
   "cell_type": "code",
   "execution_count": 3,
   "metadata": {
    "collapsed": true
   },
   "outputs": [],
   "source": [
    "create_dynamodb_table(\"testing_twitter_table\",\"tweetid\",\"S\")"
   ]
  },
  {
   "cell_type": "code",
   "execution_count": 4,
   "metadata": {
    "collapsed": true
   },
   "outputs": [],
   "source": [
    "iam_client = boto3.client('iam')"
   ]
  },
  {
   "cell_type": "markdown",
   "metadata": {},
   "source": [
    "### Create an IAM policy \n",
    "\n",
    "First, create an IAM role that can be used by the Lambda functions to write to the DynamoDB table."
   ]
  },
  {
   "cell_type": "code",
   "execution_count": 57,
   "metadata": {
    "collapsed": true
   },
   "outputs": [],
   "source": [
    "response = iam_client.delete_policy(\n",
    "    PolicyArn='arn:aws:iam::714861692883:policy/testing_twitter_policy'\n",
    ")"
   ]
  },
  {
   "cell_type": "code",
   "execution_count": 59,
   "metadata": {},
   "outputs": [
    {
     "name": "stdout",
     "output_type": "stream",
     "text": [
      "policy is already there:  arn:aws:iam::714861692883:policy/testing_twitter_policy\n"
     ]
    }
   ],
   "source": [
    "response = iam_client.list_policies(\n",
    "    Scope='All',\n",
    "    OnlyAttached=False\n",
    ")\n",
    "# response\n",
    "policies_list=response[\"Policies\"]\n",
    "policy_response=\"\"\n",
    "for p in policies_list:\n",
    "    if \"testing_twitter_policy\" in p[\"Arn\"]:\n",
    "        policy_response=p[\"Arn\"]\n",
    "        print(\"policy is already there:\",p[\"Arn\"])\n",
    "        break\n",
    "    else:\n",
    "        policy_response = iam_client.create_policy(PolicyName='testing_twitter_policy', PolicyDocument=\"\"\"{    \n",
    "                                            \"Version\": \"2012-10-17\",    \n",
    "                                            \"Statement\": [        \n",
    "                                            {            \n",
    "                                                \"Sid\": \"Stmt345926348000\",\n",
    "                                                \"Effect\": \"Allow\",\n",
    "                                                \"Action\": [\n",
    "                                                    \"dynamodb:BatchGetItem\",\n",
    "                                                    \"dynamodb:BatchWriteItem\",\n",
    "                                                    \"dynamodb:DescribeStream\",\n",
    "                                                    \"dynamodb:DescribeTable\",\n",
    "                                                    \"dynamodb:GetItem\",\n",
    "                                                    \"dynamodb:GetRecords\",\n",
    "                                                    \"dynamodb:ListTables\",\n",
    "                                                    \"dynamodb:PutItem\",\n",
    "                                                    \"dynamodb:Query\",\n",
    "                                                    \"dynamodb:Scan\",\n",
    "                                                    \"dynamodb:UpdateItem\",\n",
    "                                                    \"dynamodb:UpdateTable\"],\n",
    "                                                \"Resource\": [\"arn:aws:dynamodb:us-east-1:714861692883:table/testing_twitter\"]\n",
    "                                            }    \n",
    "                                    ]\n",
    "                        }\"\"\"\n",
    "                    )"
   ]
  },
  {
   "cell_type": "code",
   "execution_count": 60,
   "metadata": {},
   "outputs": [
    {
     "data": {
      "text/plain": [
       "'arn:aws:iam::714861692883:policy/testing_twitter_policy'"
      ]
     },
     "execution_count": 60,
     "metadata": {},
     "output_type": "execute_result"
    }
   ],
   "source": [
    "policy_response"
   ]
  },
  {
   "cell_type": "markdown",
   "metadata": {},
   "source": [
    "### Create an IAM role\n",
    "\n",
    "Next, create an IAM role which uses this policy, so that Lambda can assume an identity with the indicated privileges."
   ]
  },
  {
   "cell_type": "code",
   "execution_count": 64,
   "metadata": {
    "collapsed": true
   },
   "outputs": [],
   "source": [
    "def create_role(name,policies=None):\n",
    "        \"\"\" Create a role with an optional inline policy \"\"\"\n",
    "        policydoc = {\n",
    "            \"Version\": \"2012-10-17\",\n",
    "            \"Statement\": [\n",
    "                {\"Effect\": \"Allow\", \"Principal\": {\"Service\": [\"lambda.amazonaws.com\"]}, \"Action\": [\"sts:AssumeRole\"]},\n",
    "            ]\n",
    "        }\n",
    "        roles = [r['RoleName'] for r in iam_client.list_roles()['Roles']]\n",
    "        if name in roles:\n",
    "            print('IAM role %s exists' % (name))\n",
    "            role = iam_client.get_role(RoleName=name)['Role']\n",
    "        else:\n",
    "            print('Creating IAM role %s' % (name))\n",
    "            role = iam_client.create_role(RoleName=name, AssumeRolePolicyDocument=json.dumps(policydoc))['Role']\n",
    "\n",
    "        # attach managed policy\n",
    "        if policies is not None:\n",
    "            for p in policies:\n",
    "                iam_client.attach_role_policy(RoleName=role['RoleName'], PolicyArn=p)\n",
    "        return role"
   ]
  },
  {
   "cell_type": "code",
   "execution_count": 68,
   "metadata": {},
   "outputs": [
    {
     "name": "stdout",
     "output_type": "stream",
     "text": [
      "Creating the role, DynamoDB-TwitterAnalytics-role\n",
      "IAM role DynamoDB-TwitterAnalytics-role exists\n",
      "Creating the role, DynamoDB-TwitterAnalytics-role\n",
      "IAM role DynamoDB-TwitterAnalytics-role exists\n",
      "Creating the role, DynamoDB-TwitterAnalytics-role\n",
      "IAM role DynamoDB-TwitterAnalytics-role exists\n",
      "Creating the role, DynamoDB-TwitterAnalytics-role\n",
      "IAM role DynamoDB-TwitterAnalytics-role exists\n",
      "DynamoDB-TwitterAnalytics-role role is already created\n"
     ]
    }
   ],
   "source": [
    "response = iam_client.list_roles()\n",
    "\n",
    "roles_list=response[\"Roles\"]\n",
    "role_name=\"DynamoDB-TwitterAnalytics-role\"\n",
    "for r in roles_list:\n",
    "    if role_name in r[\"Arn\"]:\n",
    "        print(role_name,\"role is already created\")\n",
    "        break\n",
    "    else:\n",
    "        print(\"Creating the role,\",role_name)\n",
    "        role=create_role('DynamoDB-TwitterAnalytics-role', policies=[policy_response])"
   ]
  },
  {
   "cell_type": "markdown",
   "metadata": {},
   "source": [
    "### Create a Lambda policy\n",
    "\n",
    "Create a policy that allows a production user to assume the role of a user account."
   ]
  },
  {
   "cell_type": "code",
   "execution_count": 26,
   "metadata": {
    "collapsed": true
   },
   "outputs": [],
   "source": [
    "response = iam_client.create_policy(\n",
    "    PolicyName='testing_twitter_policy_lambda-assumerole',\n",
    "    Description=\"This policy allows the Lambda function to execute, write to CloudWatch and assume a role in POC\",\n",
    "    PolicyDocument=\"\"\"{\n",
    "    \"Version\": \"2012-10-17\",\n",
    "    \"Statement\": [\n",
    "        {\n",
    "            \"Effect\": \"Allow\",\n",
    "            \"Action\": [\n",
    "                \"lambda:InvokeFunction\"\n",
    "            ],\n",
    "            \"Resource\": [\n",
    "                \"*\"\n",
    "            ]\n",
    "        },\n",
    "        {\n",
    "            \"Effect\": \"Allow\",\n",
    "            \"Action\": [\n",
    "                \"kinesis:GetRecords\",\n",
    "                \"kinesis:GetShardIterator\",\n",
    "                \"kinesis:DescribeStream\",\n",
    "                \"kinesis:ListStreams\",\n",
    "                \"logs:CreateLogGroup\",\n",
    "                \"logs:CreateLogStream\",\n",
    "                \"logs:PutLogEvents\"\n",
    "            ],\n",
    "            \"Resource\": \"*\"\n",
    "        },\n",
    "        {\n",
    "            \"Sid\": \"\",\n",
    "            \"Resource\": \"*\",\n",
    "            \"Action\": [\n",
    "                \"logs:*\"\n",
    "            ],\n",
    "            \"Effect\": \"Allow\"\n",
    "        },\n",
    "        {\n",
    "            \"Sid\": \"Stmt1435680952001\",\n",
    "            \"Effect\": \"Allow\",\n",
    "            \"Action\": [\n",
    "                \"iam:PassRole\",\n",
    "                \"iam:GenerateCredentialReport\",\n",
    "                \"iam:Get*\",\n",
    "                \"iam:List*\"\n",
    "            ],\n",
    "            \"Resource\": [\n",
    "            \"*\"\n",
    "            ]\n",
    "        },\n",
    "        {\n",
    "            \"Effect\": \"Allow\",\n",
    "            \"Action\": \"sts:AssumeRole\",\n",
    "            \"Resource\": [\"arn:aws:dynamodb:us-east-1:714861692883:table/testing_twitter\"]\n",
    "        }\n",
    "    ]\n",
    "}\"\"\"\n",
    ")"
   ]
  },
  {
   "cell_type": "code",
   "execution_count": 27,
   "metadata": {},
   "outputs": [
    {
     "data": {
      "text/plain": [
       "{'Policy': {'Arn': 'arn:aws:iam::714861692883:policy/testing_twitter_policy_lambda-assumerole',\n",
       "  'AttachmentCount': 0,\n",
       "  'CreateDate': datetime.datetime(2017, 11, 1, 23, 8, 23, 137000, tzinfo=tzutc()),\n",
       "  'DefaultVersionId': 'v1',\n",
       "  'IsAttachable': True,\n",
       "  'Path': '/',\n",
       "  'PolicyId': 'ANPAJ6X4WGFDM45OAZKEQ',\n",
       "  'PolicyName': 'testing_twitter_policy_lambda-assumerole',\n",
       "  'UpdateDate': datetime.datetime(2017, 11, 1, 23, 8, 23, 137000, tzinfo=tzutc())},\n",
       " 'ResponseMetadata': {'HTTPHeaders': {'content-length': '752',\n",
       "   'content-type': 'text/xml',\n",
       "   'date': 'Wed, 01 Nov 2017 23:08:23 GMT',\n",
       "   'x-amzn-requestid': '8f0d2fe2-bf59-11e7-9561-adc38d76482b'},\n",
       "  'HTTPStatusCode': 200,\n",
       "  'RequestId': '8f0d2fe2-bf59-11e7-9561-adc38d76482b',\n",
       "  'RetryAttempts': 0}}"
      ]
     },
     "execution_count": 27,
     "metadata": {},
     "output_type": "execute_result"
    }
   ],
   "source": [
    "response"
   ]
  },
  {
   "cell_type": "markdown",
   "metadata": {},
   "source": [
    "### Create a Lambda execution IAM role\n",
    "\n",
    "- In the IAM console, choose Roles , Create New Role.\n",
    "- For Set Role Name , enter LambdaKinesisDynamo and choose Next step.\n",
    "- For Role Type , choose AWS Service Roles , AWS Lambda.\n",
    "- Select the policy created earlier, prod-raven-lambda-assumerole** , and choose Next step **.\n",
    "- Choose Review , Create Role."
   ]
  },
  {
   "cell_type": "code",
   "execution_count": null,
   "metadata": {
    "collapsed": true
   },
   "outputs": [],
   "source": [
    " role=create_role('LambdaKinesisDynamo-role', policies=[response['Policy']['Arn']])"
   ]
  },
  {
   "cell_type": "markdown",
   "metadata": {},
   "source": [
    "## Create the processor Lambda function\n",
    "\n",
    "1. Open the Lambda console and choose Create a Lambda Function.\n",
    "2. Select the blueprint kinesis-process-record-python.\n",
    "3. Configure the event source:\n",
    "For Event Source type , choose Kinesis.\n",
    "For Kinesis Stream , select web-analytics (or your stream) .\n",
    "For Batch Size , enter 300 (this depends on the frequency that events are added to Amazon Kinesis).\n",
    "For Starting position , choose Trim horizon.\n",
    "4. Configure the function:\n",
    "For Name , enter ProdKinesisToPocDynamo.\n",
    "For Runtime , choose Python 2.7.\n",
    "For Edit code inline , add the Lambda function source code (supplied in the next section).\n",
    "For Handler , choose lambdafunction.lambdahandler.\n",
    "For Role , choose the role that you just created, LambdaKinesisDynamo.\n",
    "For Memory ,choose 128 (this depends on the frequency that events are added to Amazon Kinesis)\n",
    "For Timeout , choose 2min 0 sec (this depends on the frequency that events are added to Amazon Kinesis).\n",
    "5. Review the configuration:\n",
    "For Enable event source , choose Enable later (this can be enabled later via the Event sources tab).\n",
    "6. Choose Create function."
   ]
  },
  {
   "cell_type": "code",
   "execution_count": null,
   "metadata": {
    "collapsed": true
   },
   "outputs": [],
   "source": [
    "def create_function(name, zfile, lsize=512, timeout=2, update=False):\n",
    "    \"\"\" Create, or update if exists, lambda function \"\"\"\n",
    "    \n",
    "    with open(zfile, 'rb') as zipfile:\n",
    "        if name in [f['FunctionName'] for f in lamb.list_functions()['Functions']]:\n",
    "            if update:\n",
    "                print('Updating %s lambda function code' % (name))\n",
    "                return lamb.update_function_code(FunctionName=name, ZipFile=zipfile.read())\n",
    "            else:\n",
    "                print('Lambda function %s exists' % (name))\n",
    "                for f in funcs:\n",
    "                    if f['FunctionName'] == name:\n",
    "                        lfunc = f\n",
    "        else:\n",
    "            print('Creating %s lambda function' % (name))\n",
    "            lfunc = lamb.create_function(\n",
    "                FunctionName=name,\n",
    "                Runtime='python3.6',\n",
    "                Role=role['Arn'],\n",
    "                Handler='lambda.lambda_handler',\n",
    "                Description='Example lambda function to ingest a Kinesis stream',\n",
    "                Timeout=timeout,\n",
    "                MemorySize=lsize,\n",
    "                Publish=True,\n",
    "                Code={'ZipFile': zipfile.read()},\n",
    "            )\n",
    "        lfunc['Role'] = role\n",
    "        return lfunc"
   ]
  },
  {
   "cell_type": "code",
   "execution_count": null,
   "metadata": {
    "collapsed": true
   },
   "outputs": [],
   "source": [
    "response = client.create_function(\n",
    "    FunctionName='string',\n",
    "    Runtime='nodejs'|'nodejs4.3'|'nodejs6.10'|'java8'|'python2.7'|'python3.6'|'dotnetcore1.0'|'nodejs4.3-edge',\n",
    "    Role='string',\n",
    "    Handler='string',\n",
    "    Code={\n",
    "        'ZipFile': b'bytes',\n",
    "        'S3Bucket': 'string',\n",
    "        'S3Key': 'string',\n",
    "        'S3ObjectVersion': 'string'\n",
    "    },\n",
    "    Description='string',\n",
    "    Timeout=123,\n",
    "    MemorySize=123,\n",
    "    Publish=True|False,\n",
    "    VpcConfig={\n",
    "        'SubnetIds': [\n",
    "            'string',\n",
    "        ],\n",
    "        'SecurityGroupIds': [\n",
    "            'string',\n",
    "        ]\n",
    "    },\n",
    "    DeadLetterConfig={\n",
    "        'TargetArn': 'string'\n",
    "    },\n",
    "    Environment={\n",
    "        'Variables': {\n",
    "            'string': 'string'\n",
    "        }\n",
    "    },\n",
    "    KMSKeyArn='string',\n",
    "    TracingConfig={\n",
    "        'Mode': 'Active'|'PassThrough'\n",
    "    },\n",
    "    Tags={\n",
    "        'string': 'string'\n",
    "    }\n",
    ")"
   ]
  },
  {
   "cell_type": "code",
   "execution_count": 28,
   "metadata": {
    "collapsed": true
   },
   "outputs": [],
   "source": [
    "import os\n",
    "import zipfile\n",
    "\n",
    "stream_name = 'twitter_stream2'\n",
    "\n",
    "\n",
    "zf = zipfile.ZipFile(\"lambda.zip\", \"w\")\n",
    "zf.write('lambda.py')\n",
    "zf.close()"
   ]
  },
  {
   "cell_type": "markdown",
   "metadata": {},
   "source": [
    "Below python script will create a Kinesis stream, an IAM access role and create a Lambda function with the zip file as input, then finally map the stream to the Lambda function."
   ]
  },
  {
   "cell_type": "code",
   "execution_count": 29,
   "metadata": {
    "scrolled": true
   },
   "outputs": [
    {
     "name": "stdout",
     "output_type": "stream",
     "text": [
      "Creating Kinesis stream twitter_stream2\n",
      "Creating IAM role twitter_stream2_lambda\n",
      "role: {'Path': '/', 'Arn': 'arn:aws:iam::714861692883:role/twitter_stream2_lambda', 'AssumeRolePolicyDocument': {'Statement': [{'Action': ['sts:AssumeRole'], 'Principal': {'Service': ['lambda.amazonaws.com']}, 'Effect': 'Allow'}], 'Version': '2012-10-17'}, 'CreateDate': datetime.datetime(2017, 11, 6, 21, 26, 57, 385000, tzinfo=tzutc()), 'RoleId': 'AROAI5BRNFFXSJYM4GX7U', 'RoleName': 'twitter_stream2_lambda'}\n",
      "Creating twitter_stream2 lambda function\n"
     ]
    },
    {
     "ename": "InvalidParameterValueException",
     "evalue": "An error occurred (InvalidParameterValueException) when calling the CreateFunction operation: The role defined for the function cannot be assumed by Lambda.",
     "output_type": "error",
     "traceback": [
      "\u001b[0;31m---------------------------------------------------------------------------\u001b[0m",
      "\u001b[0;31mInvalidParameterValueException\u001b[0m            Traceback (most recent call last)",
      "\u001b[0;32m<ipython-input-29-f108e0cebef8>\u001b[0m in \u001b[0;36m<module>\u001b[0;34m()\u001b[0m\n\u001b[1;32m     95\u001b[0m \u001b[0;34m\u001b[0m\u001b[0m\n\u001b[1;32m     96\u001b[0m \u001b[0;31m# Create a lambda function\u001b[0m\u001b[0;34m\u001b[0m\u001b[0;34m\u001b[0m\u001b[0m\n\u001b[0;32m---> 97\u001b[0;31m \u001b[0mlfunc\u001b[0m \u001b[0;34m=\u001b[0m \u001b[0mcreate_function\u001b[0m\u001b[0;34m(\u001b[0m\u001b[0mstream_name\u001b[0m\u001b[0;34m,\u001b[0m \u001b[0;34m'lambda.zip'\u001b[0m\u001b[0;34m,\u001b[0m \u001b[0mupdate\u001b[0m\u001b[0;34m=\u001b[0m\u001b[0;32mTrue\u001b[0m\u001b[0;34m)\u001b[0m\u001b[0;34m\u001b[0m\u001b[0m\n\u001b[0m",
      "\u001b[0;32m<ipython-input-29-f108e0cebef8>\u001b[0m in \u001b[0;36mcreate_function\u001b[0;34m(name, zfile, lsize, timeout, update)\u001b[0m\n\u001b[1;32m     68\u001b[0m                 \u001b[0mMemorySize\u001b[0m\u001b[0;34m=\u001b[0m\u001b[0mlsize\u001b[0m\u001b[0;34m,\u001b[0m\u001b[0;34m\u001b[0m\u001b[0m\n\u001b[1;32m     69\u001b[0m                 \u001b[0mPublish\u001b[0m\u001b[0;34m=\u001b[0m\u001b[0;32mTrue\u001b[0m\u001b[0;34m,\u001b[0m\u001b[0;34m\u001b[0m\u001b[0m\n\u001b[0;32m---> 70\u001b[0;31m                 \u001b[0mCode\u001b[0m\u001b[0;34m=\u001b[0m\u001b[0;34m{\u001b[0m\u001b[0;34m'ZipFile'\u001b[0m\u001b[0;34m:\u001b[0m \u001b[0mzipfile\u001b[0m\u001b[0;34m.\u001b[0m\u001b[0mread\u001b[0m\u001b[0;34m(\u001b[0m\u001b[0;34m)\u001b[0m\u001b[0;34m}\u001b[0m\u001b[0;34m,\u001b[0m\u001b[0;34m\u001b[0m\u001b[0m\n\u001b[0m\u001b[1;32m     71\u001b[0m             )\n\u001b[1;32m     72\u001b[0m         \u001b[0mlfunc\u001b[0m\u001b[0;34m[\u001b[0m\u001b[0;34m'Role'\u001b[0m\u001b[0;34m]\u001b[0m \u001b[0;34m=\u001b[0m \u001b[0mrole\u001b[0m\u001b[0;34m\u001b[0m\u001b[0m\n",
      "\u001b[0;32m/usr/lib/python3.4/site-packages/botocore/client.py\u001b[0m in \u001b[0;36m_api_call\u001b[0;34m(self, *args, **kwargs)\u001b[0m\n\u001b[1;32m    310\u001b[0m                     \"%s() only accepts keyword arguments.\" % py_operation_name)\n\u001b[1;32m    311\u001b[0m             \u001b[0;31m# The \"self\" in this scope is referring to the BaseClient.\u001b[0m\u001b[0;34m\u001b[0m\u001b[0;34m\u001b[0m\u001b[0m\n\u001b[0;32m--> 312\u001b[0;31m             \u001b[0;32mreturn\u001b[0m \u001b[0mself\u001b[0m\u001b[0;34m.\u001b[0m\u001b[0m_make_api_call\u001b[0m\u001b[0;34m(\u001b[0m\u001b[0moperation_name\u001b[0m\u001b[0;34m,\u001b[0m \u001b[0mkwargs\u001b[0m\u001b[0;34m)\u001b[0m\u001b[0;34m\u001b[0m\u001b[0m\n\u001b[0m\u001b[1;32m    313\u001b[0m \u001b[0;34m\u001b[0m\u001b[0m\n\u001b[1;32m    314\u001b[0m         \u001b[0m_api_call\u001b[0m\u001b[0;34m.\u001b[0m\u001b[0m__name__\u001b[0m \u001b[0;34m=\u001b[0m \u001b[0mstr\u001b[0m\u001b[0;34m(\u001b[0m\u001b[0mpy_operation_name\u001b[0m\u001b[0;34m)\u001b[0m\u001b[0;34m\u001b[0m\u001b[0m\n",
      "\u001b[0;32m/usr/lib/python3.4/site-packages/botocore/client.py\u001b[0m in \u001b[0;36m_make_api_call\u001b[0;34m(self, operation_name, api_params)\u001b[0m\n\u001b[1;32m    599\u001b[0m             \u001b[0merror_code\u001b[0m \u001b[0;34m=\u001b[0m \u001b[0mparsed_response\u001b[0m\u001b[0;34m.\u001b[0m\u001b[0mget\u001b[0m\u001b[0;34m(\u001b[0m\u001b[0;34m\"Error\"\u001b[0m\u001b[0;34m,\u001b[0m \u001b[0;34m{\u001b[0m\u001b[0;34m}\u001b[0m\u001b[0;34m)\u001b[0m\u001b[0;34m.\u001b[0m\u001b[0mget\u001b[0m\u001b[0;34m(\u001b[0m\u001b[0;34m\"Code\"\u001b[0m\u001b[0;34m)\u001b[0m\u001b[0;34m\u001b[0m\u001b[0m\n\u001b[1;32m    600\u001b[0m             \u001b[0merror_class\u001b[0m \u001b[0;34m=\u001b[0m \u001b[0mself\u001b[0m\u001b[0;34m.\u001b[0m\u001b[0mexceptions\u001b[0m\u001b[0;34m.\u001b[0m\u001b[0mfrom_code\u001b[0m\u001b[0;34m(\u001b[0m\u001b[0merror_code\u001b[0m\u001b[0;34m)\u001b[0m\u001b[0;34m\u001b[0m\u001b[0m\n\u001b[0;32m--> 601\u001b[0;31m             \u001b[0;32mraise\u001b[0m \u001b[0merror_class\u001b[0m\u001b[0;34m(\u001b[0m\u001b[0mparsed_response\u001b[0m\u001b[0;34m,\u001b[0m \u001b[0moperation_name\u001b[0m\u001b[0;34m)\u001b[0m\u001b[0;34m\u001b[0m\u001b[0m\n\u001b[0m\u001b[1;32m    602\u001b[0m         \u001b[0;32melse\u001b[0m\u001b[0;34m:\u001b[0m\u001b[0;34m\u001b[0m\u001b[0m\n\u001b[1;32m    603\u001b[0m             \u001b[0;32mreturn\u001b[0m \u001b[0mparsed_response\u001b[0m\u001b[0;34m\u001b[0m\u001b[0m\n",
      "\u001b[0;31mInvalidParameterValueException\u001b[0m: An error occurred (InvalidParameterValueException) when calling the CreateFunction operation: The role defined for the function cannot be assumed by Lambda."
     ]
    }
   ],
   "source": [
    "import time\n",
    "import json\n",
    "import boto3\n",
    "\n",
    "kinesis = boto3.client('kinesis')\n",
    "iam = boto3.client('iam')\n",
    "lamb = boto3.client('lambda')\n",
    "\n",
    "def create_stream(name):\n",
    "    \"\"\" Create kinesis stream, and wait until it is active \"\"\"\n",
    "    if name not in [f for f in kinesis.list_streams()['StreamNames']]:\n",
    "        print('Creating Kinesis stream %s' % (name))\n",
    "        kinesis.create_stream(StreamName=name, ShardCount=1)\n",
    "    else:\n",
    "        print('Kinesis stream %s exists' % (name))\n",
    "    while kinesis.describe_stream(StreamName=name)['StreamDescription']['StreamStatus'] == 'CREATING':\n",
    "        time.sleep(2)\n",
    "    return kinesis.describe_stream(StreamName=name)['StreamDescription']\n",
    "\n",
    "\n",
    "def create_role(name, policies=None):\n",
    "    \"\"\" Create a role with an optional inline policy \"\"\"\n",
    "    policydoc = {\n",
    "        \"Version\": \"2012-10-17\",\n",
    "        \"Statement\": [\n",
    "            {\"Effect\": \"Allow\", \"Principal\": {\"Service\": [\"lambda.amazonaws.com\"]}, \"Action\": [\"sts:AssumeRole\"]},\n",
    "        ]\n",
    "    }\n",
    "    roles = [r['RoleName'] for r in iam.list_roles()['Roles']]\n",
    "    if name in roles:\n",
    "        print('IAM role %s exists' % (name))\n",
    "        role = iam.get_role(RoleName=name)['Role']\n",
    "    else:\n",
    "        print('Creating IAM role %s' % (name))\n",
    "        role = iam.create_role(RoleName=name, AssumeRolePolicyDocument=json.dumps(policydoc))['Role']\n",
    "\n",
    "    # attach managed policy\n",
    "    if policies is not None:\n",
    "        for p in policies:\n",
    "            iam.attach_role_policy(RoleName=role['RoleName'], PolicyArn=p)\n",
    "    return role\n",
    "\n",
    "\n",
    "def create_function(name, zfile, lsize=512, timeout=120, update=False):\n",
    "    \"\"\" Create, or update if exists, lambda function \"\"\"\n",
    "    role = create_role(name + '_lambda', policies=['arn:aws:iam::aws:policy/service-role/AWSLambdaKinesisExecutionRole'])\n",
    "    print(\"role:\",role)\n",
    "    \n",
    "    with open(zfile, 'rb') as zipfile:\n",
    "        if name in [f['FunctionName'] for f in lamb.list_functions()['Functions']]:\n",
    "            if update:\n",
    "                print('Updating %s lambda function code' % (name))\n",
    "                return lamb.update_function_code(FunctionName=name, ZipFile=zipfile.read())\n",
    "            else:\n",
    "                print('Lambda function %s exists' % (name))\n",
    "                for f in funcs:\n",
    "                    if f['FunctionName'] == name:\n",
    "                        lfunc = f\n",
    "        else:\n",
    "            print('Creating %s lambda function' % (name))\n",
    "            lfunc = lamb.create_function(\n",
    "                FunctionName=name,\n",
    "                Runtime='python3.6',\n",
    "                Role=role['Arn'],\n",
    "                Handler='lambda.lambda_handler',\n",
    "                Description='Example lambda function to ingest a Kinesis stream',\n",
    "                Timeout=timeout,\n",
    "                MemorySize=lsize,\n",
    "                Publish=True,\n",
    "                Code={'ZipFile': zipfile.read()},\n",
    "            )\n",
    "        lfunc['Role'] = role\n",
    "        return lfunc\n",
    "\n",
    "def create_mapping(name, stream):\n",
    "    \"\"\" add a mapping to a stream \"\"\"\n",
    "    print(\"checking event source mappings\")\n",
    "    sources = lamb.list_event_source_mappings(FunctionName=name,\n",
    "                                           EventSourceArn=stream['StreamARN'])['EventSourceMappings']\n",
    "    for s in sources:\n",
    "        print(s)\n",
    "        \n",
    "    if stream['StreamARN'] not in [s['EventSourceArn'] for s in sources]:\n",
    "        print(\"stream not present in event sources\")\n",
    "        source = lamb.create_event_source_mapping(FunctionName=name, EventSourceArn=stream['StreamARN'],\n",
    "                                      StartingPosition='TRIM_HORIZON')\n",
    "    else:\n",
    "        for s in sources:\n",
    "            source = s\n",
    "    return source\n",
    "\n",
    "\n",
    "# create kinesis stream\n",
    "stream = create_stream(stream_name)\n",
    "\n",
    "# Create a lambda function\n",
    "lfunc = create_function(stream_name, 'lambda.zip', update=True)"
   ]
  },
  {
   "cell_type": "code",
   "execution_count": 24,
   "metadata": {},
   "outputs": [
    {
     "name": "stdout",
     "output_type": "stream",
     "text": [
      "function is created\n"
     ]
    }
   ],
   "source": [
    "response = lamb.list_functions(\n",
    "    FunctionVersion='ALL'\n",
    ")\n",
    "if lfunc['FunctionName'] in [s['FunctionName'] for s in response['Functions']]:\n",
    "    print('function is created')"
   ]
  },
  {
   "cell_type": "code",
   "execution_count": 25,
   "metadata": {},
   "outputs": [
    {
     "name": "stdout",
     "output_type": "stream",
     "text": [
      "checking event source mappings\n",
      "{'LastModified': datetime.datetime(2017, 11, 3, 8, 11, tzinfo=tzlocal()), 'BatchSize': 100, 'EventSourceArn': 'arn:aws:kinesis:us-east-1:714861692883:stream/twitter', 'UUID': '4b2d23d0-c1f3-4572-8a2a-90cc76cfc71f', 'StateTransitionReason': 'User action', 'FunctionArn': 'arn:aws:lambda:us-east-1:714861692883:function:twitter', 'State': 'Enabled', 'LastProcessingResult': 'PROBLEM: Function call failed'}\n"
     ]
    },
    {
     "data": {
      "text/plain": [
       "{'BatchSize': 100,\n",
       " 'EventSourceArn': 'arn:aws:kinesis:us-east-1:714861692883:stream/twitter',\n",
       " 'FunctionArn': 'arn:aws:lambda:us-east-1:714861692883:function:twitter',\n",
       " 'LastModified': datetime.datetime(2017, 11, 3, 8, 11, tzinfo=tzlocal()),\n",
       " 'LastProcessingResult': 'PROBLEM: Function call failed',\n",
       " 'State': 'Enabled',\n",
       " 'StateTransitionReason': 'User action',\n",
       " 'UUID': '4b2d23d0-c1f3-4572-8a2a-90cc76cfc71f'}"
      ]
     },
     "execution_count": 25,
     "metadata": {},
     "output_type": "execute_result"
    }
   ],
   "source": [
    "# add mapping to kinesis stream\n",
    "create_mapping(stream_name, stream)"
   ]
  },
  {
   "cell_type": "code",
   "execution_count": 5,
   "metadata": {
    "collapsed": true
   },
   "outputs": [],
   "source": [
    "# aws kinesis put-record --stream-name alonzo --data \"{'0': 'the', '1': 'lambda', '2': 'calculus'}\"\n",
    "\n",
    "\n",
    "response = kinesis.put_record(\n",
    "    StreamName='twitter',\n",
    "    Data=\"{'0': 'the', '1': 'lambda', '2': 'calculus'}\",\n",
    "    PartitionKey='1'\n",
    "#     ExplicitHashKey='string',\n",
    "#     SequenceNumberForOrdering='string'\n",
    ")"
   ]
  },
  {
   "cell_type": "code",
   "execution_count": 6,
   "metadata": {},
   "outputs": [
    {
     "ename": "SyntaxError",
     "evalue": "Missing parentheses in call to 'print' (<ipython-input-6-c6d55457649a>, line 39)",
     "output_type": "error",
     "traceback": [
      "\u001b[0;36m  File \u001b[0;32m\"<ipython-input-6-c6d55457649a>\"\u001b[0;36m, line \u001b[0;32m39\u001b[0m\n\u001b[0;31m    print item['text']\u001b[0m\n\u001b[0m             ^\u001b[0m\n\u001b[0;31mSyntaxError\u001b[0m\u001b[0;31m:\u001b[0m Missing parentheses in call to 'print'\n"
     ]
    }
   ],
   "source": [
    "from TwitterAPI import TwitterAPI\n",
    "import boto3\n",
    "import json\n",
    "import twitterCreds\n",
    "\n",
    "## twitter credentials\n",
    "\n",
    "consumer_key = twitterCreds.consumer_key\n",
    "consumer_secret = twitterCreds.consumer_secret\n",
    "access_token_key = twitterCreds.access_token_key\n",
    "access_token_secret = twitterCreds.access_token_secret\n",
    "\n",
    "api = TwitterAPI(consumer_key, consumer_secret, access_token_key, access_token_secret)\n",
    "\n",
    "# kinesis = boto3.client('kinesis')\n",
    "\n",
    "# r = api.request('statuses/filter', {'track':'modi'})\n",
    "# # print(r)\n",
    "# tweets = []\n",
    "# count = 0\n",
    "# for item in r:\n",
    "#     jsonItem = json.dumps(item)\n",
    "#     print(jsonItem)\n",
    "#     tweets.append({'Data':jsonItem[0], 'PartitionKey':\"filler\"})\n",
    "#     count += 1\n",
    "#     if count == 100:\n",
    "#         print(count)\n",
    "#         kinesis.put_records(StreamName=\"twitter\", Records=tweets)\n",
    "# #         print(tweets[1])\n",
    "#         count = 0\n",
    "#         tweets = []\n",
    "        \n",
    "r = api.request('statuses/filter', {'track': 'modi'})\n",
    "\n",
    "# Writes new tweets into Kinesis\n",
    "for item in r:\n",
    "    if 'text' in item:\n",
    "        kinesis.put_record(StreamName='twitter', Data=json.dumps(item), PartitionKey=item['user']['screen_name'])\n",
    "        print item['text']"
   ]
  },
  {
   "cell_type": "code",
   "execution_count": null,
   "metadata": {
    "collapsed": true
   },
   "outputs": [],
   "source": [
    "type(tweets[0]['Data'])"
   ]
  },
  {
   "cell_type": "markdown",
   "metadata": {},
   "source": [
    "We should have an IAM role named sai_lambda, and a Kinesis stream and lambda function named sai. Print the response variable."
   ]
  },
  {
   "cell_type": "code",
   "execution_count": null,
   "metadata": {
    "collapsed": true
   },
   "outputs": [],
   "source": [
    "response"
   ]
  },
  {
   "cell_type": "markdown",
   "metadata": {},
   "source": [
    "The JSON response has the ShardId. You can go to CloudWatch in AWS web interface and check the logs to see if the function worked. Under Logs there should be an `\"/aws/lambda/sai\"` log group. Within that are different log streams. New log streams will be created periodically, but a single log stream may hold the logs from more than a single invocation of the function. You should see the output of the event and the decoded JSON we went into the stream.\n",
    "\n",
    "While Lambda functions cost nothing when not running, it is typically used in a system where there are other resources which do cost something. Kinesis streams are charged per hour per shard. This example only creates a single shard so sai stream will cost $0.36 a day. Make sure to delete the resource once done playing with it."
   ]
  },
  {
   "cell_type": "code",
   "execution_count": null,
   "metadata": {
    "collapsed": true
   },
   "outputs": [],
   "source": [
    "response = kinesis.delete_stream(\n",
    "    StreamName='sai'\n",
    ")"
   ]
  },
  {
   "cell_type": "code",
   "execution_count": null,
   "metadata": {
    "collapsed": true
   },
   "outputs": [],
   "source": [
    "response"
   ]
  }
 ],
 "metadata": {
  "kernelspec": {
   "display_name": "Python 3",
   "language": "python",
   "name": "python3"
  },
  "language_info": {
   "codemirror_mode": {
    "name": "ipython",
    "version": 3
   },
   "file_extension": ".py",
   "mimetype": "text/x-python",
   "name": "python",
   "nbconvert_exporter": "python",
   "pygments_lexer": "ipython3",
   "version": "3.4.5"
  }
 },
 "nbformat": 4,
 "nbformat_minor": 2
}
