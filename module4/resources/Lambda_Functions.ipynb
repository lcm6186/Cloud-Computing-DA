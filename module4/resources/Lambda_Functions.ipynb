{
 "cells": [
  {
   "cell_type": "markdown",
   "metadata": {},
   "source": [
    "# Servless Function\n",
    "# AKA   Function as a Service (FaaS)\n",
    "\n",
    "## AWS Lambda Functions\n",
    "\n",
    "Many web developers are familiar with AWS’s S3 buckets for storage and EC2 instances for running applications but AWS has come a long way beyond S3 and EC2. \n",
    "There are higher level services introduced in recent past that greatly simplify cloud services, \n",
    "at a cheaper cost, and requiring little maintenance.\n",
    "\n",
    "Many a times there would be large spikes of activity on a website or application and far less activity during rest of the time. \n",
    "In order to serve the high traffic of data during these spikes we will be running many EC2 instances, \n",
    "but during lulls its not economical to run those EC2 instances. \n",
    "Lambda functions prove to be the optimal solution to solve this problem.\n",
    "\n",
    "Below is a summary of some key concepts.\n",
    "Later you will deploy AWS Lambda functions to collect data."
   ]
  },
  {
   "cell_type": "markdown",
   "metadata": {},
   "source": [
    "## AWS Lambda functions\n",
    "\n",
    "An AWS Lambda function is a collection of code with a single entry point, or handler, and can be written in either Node.js, Python (2.7 or higher), or Java (8). They take a single input. A Lambda function, generally, can be thought of as a simple function taking a single input and performing some transformation. They are not restricted to simple operations. They can be quite complex, since libraries can be uploaded to the function. The Lambda function works by being configured to fire in response to some event, such as data added to a AWS Kinesis stream, or files uploaded to an S3 bucket. Behind the scenes, Amazon stores the Lambda function code and configuration on S3 and when an event fires, it creates (or possibly reuses) a container, and passes the event data to the function handler.\n",
    "\n",
    "With this architecture AWS handles the management of the function and gives users three main advantages:\n",
    "\n",
    "### Serverless (simple)\n",
    "\n",
    "Lambda functions don’t require the maintenance of a server. The resources a lambda function uses is set only by specifying it’s memory usage, from 128 MB to 1536 MB. CPU speed is scaled as memory goes up and the memory allocation can be changed at any time.\n",
    "\n",
    "### Auto-scaling (smart)\n",
    "\n",
    "There is no scaling to enable or to configure. Lambda functions spawn as necessary to keep up with the pace of events, although bandwidth may be restricted depending on other services accessed (e.g., bandwidth to a Kinesis stream is based on number of shards in the stream).\n",
    "\n",
    "### Cost-effective (cheap)\n",
    "\n",
    "Compared to an EC2 instance which is up 24/7 and incurring costs, you are only charged based on how much the function runs, with no costs when it is not running. Furthermore, a function that has been allocated 512 GB of memory only costs 3 cents for every hour of computation. For a function that takes 1 second, those 3 cents can buy you over 3000 invocations of your function. Even for large scale operations, that are performing millions of functions a month, the cost will still typically be less than $20.\n",
    "\n"
   ]
  },
  {
   "cell_type": "markdown",
   "metadata": {},
   "source": [
    "### Deploying Lambda functions with Python and boto3\n",
    "\n",
    "The AWS console is a great way to get started on Lambda functions. It steps you through the process of creating one and includes templates for different languages. However the AWS console lacks an automated way to add new functions and update existing ones. The AWS CLI (command line interface) can be automated, however when the Lambda functions are complex (for instance, when they require event source mappings and IAM roles and policies) doing these actions in Python scripts using boto3 is easier.\n",
    "\n"
   ]
  },
  {
   "cell_type": "markdown",
   "metadata": {},
   "source": [
    "---\n",
    "\n",
    "Please note, many other cloud services providers and frameworks can provide this functionality as well.\n",
    " * Google Cloud Functions\n",
    " * IBM Bluemix Serverless Functions\n",
    " * Apache Whisk"
   ]
  }
 ],
 "metadata": {
  "kernelspec": {
   "display_name": "Python 3",
   "language": "python",
   "name": "python3"
  },
  "language_info": {
   "codemirror_mode": {
    "name": "ipython",
    "version": 3
   },
   "file_extension": ".py",
   "mimetype": "text/x-python",
   "name": "python",
   "nbconvert_exporter": "python",
   "pygments_lexer": "ipython3",
   "version": "3.7.3"
  }
 },
 "nbformat": 4,
 "nbformat_minor": 2
}
