{
 "cells": [
  {
   "cell_type": "markdown",
   "metadata": {},
   "source": [
    "# Module 4 - Amazon Web Services, part 3"
   ]
  },
  {
   "cell_type": "markdown",
   "metadata": {},
   "source": [
    "## Module Topics\n",
    "\n",
    "* AWS Machine Learning\n",
    "* Data Collection using Web scraping\n",
    "* AWS Lambda Service\n"
   ]
  },
  {
   "cell_type": "markdown",
   "metadata": {},
   "source": [
    "## Readings\n",
    "\n",
    "\n",
    "  * [Building AWS Machine Learning models](http://docs.aws.amazon.com/machine-learning/latest/dg/building-machine-learning.html)\n",
    "  * [Scraping news articles](resources/ScraperWalkthrough.pdf) - You may need to `Right-Click`, then `Save As`\n",
    "    * Could be applied to local resources or EC2 instance.\n",
    "  * [Introduction to Serverless (Function-as-a-Service Reading](resources/Lambda_Functions.ipynb)\n",
    "  * [Serverless computing](https://www.javaworld.com/article/3210726/application-development/serverless-computing-with-aws-lambda.html)\n",
    "    * Stop-reading at `AWS Lambda functions in Java`\n",
    " "
   ]
  },
  {
   "cell_type": "markdown",
   "metadata": {},
   "source": [
    "## Labs  (Note: The lab activities will be evaluated along with Exercises)\n",
    "\n",
    "\n",
    "  * [ML Using S3](labs/ML_using_S3.ipynb)\n",
    "  * [Web Scraper](labs/web_scraper.ipynb)\n",
    "  * [AWS Lambda Tutorial (AWS Console Based)](resources/Lambda_First_Tutorial.pdf) - You may need to `Right-Click`, then `Save As`\n",
    "    * [Alternative Static Link](https://web.dsa.missouri.edu/static/PDF/AWS/Lambda_First_Tutorial.pdf)\n",
    "  "
   ]
  },
  {
   "cell_type": "markdown",
   "metadata": {},
   "source": [
    "## Exercises\n",
    "\n",
    "  * [Exercises](exercises/M4_exercise.ipynb)"
   ]
  },
  {
   "cell_type": "markdown",
   "metadata": {},
   "source": [
    "## Submitting your work\n",
    "\n",
    "#### Steps:\n",
    "  1. Open Terminal in JupyterHub\n",
    "  1. Change into the course folder\n",
    "  1. Stage (Git Add) the module's practive and exercise work   \n",
    "  `git  add   module4/labs    module4/exercises`\n",
    "  1. Create your work snapshot (Git Commit)  \n",
    "  `git   commit   -m   \"Module 4 submission\"`\n",
    "  1. Upload the snapshot to the server (Git Push)  \n",
    "  `git   push`\n"
   ]
  },
  {
   "cell_type": "markdown",
   "metadata": {},
   "source": [
    "## Congratulations, you have completed the learning activities for this module!"
   ]
  }
 ],
 "metadata": {
  "kernelspec": {
   "display_name": "Python 3",
   "language": "python",
   "name": "python3"
  },
  "language_info": {
   "codemirror_mode": {
    "name": "ipython",
    "version": 3
   },
   "file_extension": ".py",
   "mimetype": "text/x-python",
   "name": "python",
   "nbconvert_exporter": "python",
   "pygments_lexer": "ipython3",
   "version": "3.7.3"
  }
 },
 "nbformat": 4,
 "nbformat_minor": 2
}
