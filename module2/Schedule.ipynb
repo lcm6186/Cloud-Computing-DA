{
 "cells": [
  {
   "cell_type": "markdown",
   "metadata": {},
   "source": [
    "# Module 2 - Amazon Web Services, part 1"
   ]
  },
  {
   "cell_type": "markdown",
   "metadata": {},
   "source": [
    "## Module Topics\n",
    "\n",
    "* AWS Regions And Availability Zones\n",
    "* Accessing AWS via APIs, SDKs, CLI, and the Web Management\n",
    "* Containers\n",
    "* Network Latency"
   ]
  },
  {
   "cell_type": "markdown",
   "metadata": {},
   "source": [
    "## Readings\n",
    "\n",
    "  * [AWS Availability Regions](resources/AWS_Availability_Regions.ipynb)\n",
    " \n",
    " \n",
    "**Read, Review, You will run this lab after the `Jupyter_from_Docker` Lab**, from within the AWS Cloud\n",
    "\n",
    "  * [Access S3](labs/Access_S3.ipynb)"
   ]
  },
  {
   "cell_type": "markdown",
   "metadata": {},
   "source": [
    "\n",
    "\n",
    "## Labs\n",
    "  * [Jupyter from Docker](labs/Jupyter_from_Docker.ipynb)\n",
    "  * [Launch Apache Server](labs/Launch_Apache_Server.ipynb)\n",
    "  * [Network Latency](labs/Network_Latency.ipynb)\n",
    "  \n",
    "## Extra Labs\n",
    "\n",
    "**Depending on your time available** you should attempt a couple of these labs.\n",
    "If you have enough time, try them all.\n",
    "If you cannot get them all worked through this week, consider it a new thing on your _bucket list_!\n",
    "\n",
    "  * [Accessing AWS through CLI](extra_labs/Accessing_AWS_through_CLI.ipynb)\n",
    "  * [Accessing EC2 with SDK](extra_labs/Accessing_EC2_with_SDK.ipynb)\n",
    "  * [Accessing SQS SDK](extra_labs/Accessing_SQS_SDK.ipynb)\n",
    "  * [AWS SSH Keypair](extra_labs/AWS_SSH_Keypair.ipynb)"
   ]
  },
  {
   "cell_type": "markdown",
   "metadata": {},
   "source": [
    "## Exercises\n",
    "\n",
    "  * [Docker Exercises](exercises/Docker_Exercises.ipynb)"
   ]
  },
  {
   "cell_type": "markdown",
   "metadata": {},
   "source": [
    "## Submitting your work\n",
    "\n",
    "#### Steps:\n",
    "  1. Open Terminal in JupyterHub\n",
    "  1. Change into the course folder\n",
    "  1. Stage (Git Add) the module's practive and exercise work  \n",
    "  `git  add   module2/labs/results`  \n",
    "  `git  add   module2/exercises`\n",
    "  1. Create your work snapshot (Git Commit)  \n",
    "  `git   commit   -m   \"Module 2 submission\"`\n",
    "  1. Upload the snapshot to the server (Git Push)  \n",
    "  `git   push`\n"
   ]
  },
  {
   "cell_type": "markdown",
   "metadata": {},
   "source": [
    "## Congratulations, you have completed the learning activities for this module!"
   ]
  }
 ],
 "metadata": {
  "kernelspec": {
   "display_name": "Python 3",
   "language": "python",
   "name": "python3"
  },
  "language_info": {
   "codemirror_mode": {
    "name": "ipython",
    "version": 3
   },
   "file_extension": ".py",
   "mimetype": "text/x-python",
   "name": "python",
   "nbconvert_exporter": "python",
   "pygments_lexer": "ipython3",
   "version": "3.7.3"
  }
 },
 "nbformat": 4,
 "nbformat_minor": 2
}
