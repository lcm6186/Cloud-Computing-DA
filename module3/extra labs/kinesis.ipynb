{
 "cells": [
  {
   "cell_type": "code",
   "execution_count": null,
   "metadata": {
    "collapsed": true
   },
   "outputs": [],
   "source": [
    "# Simple script to create a kinesis stream\n",
    "# create-stream.py\n",
    "import boto3\n",
    "\n",
    "client = boto3.client('kinesis')\n",
    "response = client.create_stream(\n",
    "   StreamName='twitter',\n",
    "   ShardCount=1\n",
    ")"
   ]
  },
  {
   "cell_type": "code",
   "execution_count": null,
   "metadata": {
    "collapsed": true
   },
   "outputs": [],
   "source": [
    "response = client.delete_stream(\n",
    "   StreamName='twitter'\n",
    ")"
   ]
  },
  {
   "cell_type": "code",
   "execution_count": null,
   "metadata": {
    "collapsed": true
   },
   "outputs": [],
   "source": [
    "## Example to use twitter api and feed data into kinesis\n",
    "\n",
    "from TwitterAPI import TwitterAPI\n",
    "import boto3\n",
    "import json\n",
    "import twitterCreds\n",
    "\n",
    "## twitter credentials\n",
    "\n",
    "# Twitter security credentials \n",
    "# ACCESS_TOKEN    = \"908803963557941248-sRHYClIfMteyPMnwF4hWkARyuHNkJRT\"\n",
    "# ACCESS_SECRET   = \"FgGi0GshGh8Xbi0Tmkbks0G4Jvd20J5tTThCLJzxd0UVB\"\n",
    "# CONSUMER_KEY    = \"KZT7UkCSyLhVO18Wqx6OJISDY\"\n",
    "# CONSUMER_SECRET = \"X6hfBxJZz3jLqo8VeX451d7zW8u8v6yDqpiWTUWoq7hnGQTrp2\"\n",
    "consumer_key = twitterCreds.consumer_key\n",
    "consumer_secret = twitterCreds.consumer_secret\n",
    "access_token_key = twitterCreds.access_token_key\n",
    "access_token_secret = twitterCreds.access_token_secret\n",
    "\n",
    "api = TwitterAPI(consumer_key, consumer_secret, access_token_key, access_token_secret)\n",
    "\n",
    "r = api.request('statuses/filter', {'locations':'-90,-90,90,90'})\n",
    "\n",
    "for item in r:\n",
    "    client.put_record(StreamName=\"twitter\", Data=json.dumps(item), PartitionKey=\"filler\")"
   ]
  },
  {
   "cell_type": "code",
   "execution_count": null,
   "metadata": {
    "collapsed": true
   },
   "outputs": [],
   "source": [
    "## Example to use twitter api and feed data into kinesis\n",
    "\n",
    "from TwitterAPI import TwitterAPI\n",
    "import boto3\n",
    "import json\n",
    "import twitterCreds\n",
    "\n",
    "## twitter credentials\n",
    "\n",
    "consumer_key = twitterCreds.consumer_key\n",
    "consumer_secret = twitterCreds.consumer_secret\n",
    "access_token_key = twitterCreds.access_token_key\n",
    "access_token_secret = twitterCreds.access_token_secret\n",
    "\n",
    "api = TwitterAPI(consumer_key, consumer_secret, access_token_key, access_token_secret)\n",
    "\n",
    "kinesis = boto3.client('kinesis')\n",
    "\n",
    "r = api.request('statuses/filter', {'locations':'-90,-90,90,90'})\n",
    "# print(r)\n",
    "tweets = []\n",
    "count = 0\n",
    "for item in r:\n",
    "    jsonItem = json.dumps(item)\n",
    "    tweets.append({'Data':jsonItem, 'PartitionKey':\"filler\"})\n",
    "    count += 1\n",
    "    if count == 100:\n",
    "        print(count)\n",
    "        kinesis.put_records(StreamName=\"twitter\", Records=tweets)\n",
    "        print(tweets[1])\n",
    "        count = 0\n",
    "        tweets = []"
   ]
  }
 ],
 "metadata": {
  "kernelspec": {
   "display_name": "Python 3",
   "language": "python",
   "name": "python3"
  },
  "language_info": {
   "codemirror_mode": {
    "name": "ipython",
    "version": 3
   },
   "file_extension": ".py",
   "mimetype": "text/x-python",
   "name": "python",
   "nbconvert_exporter": "python",
   "pygments_lexer": "ipython3",
   "version": "3.4.5"
  }
 },
 "nbformat": 4,
 "nbformat_minor": 2
}
