{
 "cells": [
  {
   "cell_type": "markdown",
   "metadata": {},
   "source": [
    "# Module 7 - Google Cloud Platform, Part 2\n",
    "\n",
    "In this module you will learn about additional GCP resources and APIs that can be leveraged.\n",
    "\n",
    "\n",
    "### Cloud Analytics\n",
    "\n",
    "We left off last module with the top portion of the below data flow.\n",
    "However, we often will desire to carry it through its natural cycle from raw data to business analytics and intelligence.\n",
    "\n",
    "![DataScraperStructure_Mini_Project2.png MISSING](./images/DataScraperStructure_Mini_Project2.png)"
   ]
  },
  {
   "cell_type": "markdown",
   "metadata": {},
   "source": [
    "## Module Topics\n",
    "\n",
    " * Addition Cloud Data Storage Options\n",
    "   * SQL DB Options\n",
    "   * NoSQL Options\n",
    "   * Data Flow\n",
    " * Specialty APIs\n",
    "   * Google Vision API\n",
    "   * Google Natural Language API\n",
    "   * Machine Learning\n",
    " * Serverless (FaaS)\n",
    "   * Only for those that know, or want to learn, JavaScript"
   ]
  },
  {
   "cell_type": "markdown",
   "metadata": {},
   "source": [
    "## Readings and Resources\n",
    "\n",
    "### Additional Data Storage and Data Flow\n",
    "\n",
    " * [SQL Options](https://cloud.google.com/sql/docs/)\n",
    " * [NoSQL Options](https://cloud.google.com/datastore/)\n",
    " * [Data Flow](https://cloud.google.com/dataflow/)\n",
    "\n",
    "\n",
    "### Specialty APIs\n",
    "\n",
    " * [Google Vision API](https://cloud.google.com/vision/)\n",
    " * [Google Natural Language API](https://cloud.google.com/natural-language/)\n",
    " * [Machine Learning](https://cloud.google.com/ml-engine/)\n",
    " \n",
    "### Serverless (FaaS)\n",
    " * [Google Cloud Functions](https://cloud.google.com/functions/)\n",
    " \n"
   ]
  },
  {
   "cell_type": "markdown",
   "metadata": {},
   "source": [
    "## Determine the IP of the Jupyter environment\n",
    "\n",
    "\n",
    "Before you get started, please determine the IP address of the shell environment.\n",
    "Then write this down\n",
    "\n",
    " * Open a terminal tab in JupyterHub\n",
    " \n",
    "```BASH\n",
    "wget http://ipv4.whatismyv6.com/ -O getip\n",
    "grep -a1 \"Address of\" getip | grep '[0-9]\\{1,3\\}\\.[0-9]\\{1,3\\}\\.[0-9]\\{1,3\\}\\.[0-9]\\{1,3\\}'\n",
    "\n",
    "```\n",
    "\n",
    "This should generate a line such as:\n",
    "\n",
    "```HTML\n",
    "<tr><td align=center colspan=3 bgcolor=\"D0D0F0\"><font face=\"Arial, Monospace\" size=+3>128.206.116.250</font></td></tr>\n",
    "```\n",
    "The IP address in the line above is   \n",
    "<span style=\"color:red\">**128.206.116.250**</span>\n"
   ]
  },
  {
   "cell_type": "markdown",
   "metadata": {},
   "source": [
    "## IP When running my Jupyter\n",
    "\n",
    "The IP address in the line above is   \n",
    "<span style=\"color:red\">**128.206.117.133**</span>\n"
   ]
  },
  {
   "cell_type": "markdown",
   "metadata": {},
   "source": [
    "### Cloud Storage, part 2\n",
    " * [SQL](./labs/Google_SQL_API_Lab.ipynb)\n",
    "   * Please ensure you have deleted the lab PostgreSQL instance you created when you are done!\n",
    "\n",
    " * [NoSQL](./labs/Google_NoSQL_API_Lab.ipynb)\n",
    "   * Please ensure you have deleted the lab NoSQL instance you created when you are done!\n"
   ]
  },
  {
   "cell_type": "markdown",
   "metadata": {},
   "source": [
    "### Specialty APIs\n",
    " * [Google Vision API](https://cloud.google.com/vision/docs/quickstart)\n",
    "    * If you have bucket access issues, you can get the public image link and update to full URL, example:\n",
    "    ![VisionAPI_ImageLinkChange.png MISSING](./images/VisionAPI_ImageLinkChange.png)\n",
    "    * [Now Detect Faces in Images](./labs/FaceDetection.ipynb) \n",
    " * [Google Natural Language API](./labs/Google_NLP_API_Lab.ipynb)\n",
    " * Machine Learning  - **Use the Cloud Shell Instructions**\n",
    "   1. [Quickstart Using Google Cloud Shell](https://cloud.google.com/ml-engine/docs/command-line)\n",
    "   1. [Cloud ML and TensorFlow](https://cloud.google.com/ml-engine/docs/getting-started-training-prediction)\n",
    "      * **Use the GCloud Shell** version\n",
    " "
   ]
  },
  {
   "cell_type": "markdown",
   "metadata": {},
   "source": [
    "\n",
    "### Composite Systems with Data Flow\n",
    " * [DataFlow is based on Apache Beam](https://cloud.google.com/dataflow/model/programming-model-beam)\n",
    "   * Apache Beam: https://beam.apache.org/documentation/programming-guide/\n",
    " * If you are feeling **really** ambitious: https://cloud.google.com/dataflow/docs/quickstarts/quickstart-python)\n",
    "   * **THIS IS COMPLETELY OPTIONAL**"
   ]
  },
  {
   "cell_type": "markdown",
   "metadata": {},
   "source": [
    "## Practice-/-exercises\n",
    "\n",
    " * **The amount of labs and work this module will allow us to skip the Exercise**\n",
    " \n",
    " * Please move to Module 8, for your final project!\n",
    " \n",
    " * If you would like, you can build a notebook by following the Optional Fun below!\n",
    "\n",
    "\n",
    "## Optional Fun\n",
    "   * [After you complete the other parts of module and are still hungry!](https://github.com/GoogleCloudPlatform/python-docs-samples/tree/master/language/)\n",
    "      * I recommend you do this with a Compute Engine VM\n"
   ]
  },
  {
   "cell_type": "markdown",
   "metadata": {},
   "source": [
    "## Submitting your work\n",
    "\n",
    "#### Steps:\n",
    "  1. Open Terminal in JupyterHub\n",
    "  1. Change into the course folder\n",
    "  1. Stage (Git Add) the module's practive and exercise work   \n",
    "  `git  add   module7/labs`\n",
    "  1. Create your work snapshot (Git Commit)  \n",
    "  `git   commit   -m   \"Module 7 submission\"`\n",
    "  1. Upload the snapshot to the server (Git Push)  \n",
    "  `git   push`\n"
   ]
  },
  {
   "cell_type": "markdown",
   "metadata": {},
   "source": [
    "## Congratulations, you have completed the learning activities for this module!\n"
   ]
  }
 ],
 "metadata": {
  "kernelspec": {
   "display_name": "Python 3",
   "language": "python",
   "name": "python3"
  },
  "language_info": {
   "codemirror_mode": {
    "name": "ipython",
    "version": 3
   },
   "file_extension": ".py",
   "mimetype": "text/x-python",
   "name": "python",
   "nbconvert_exporter": "python",
   "pygments_lexer": "ipython3",
   "version": "3.7.3"
  }
 },
 "nbformat": 4,
 "nbformat_minor": 2
}
