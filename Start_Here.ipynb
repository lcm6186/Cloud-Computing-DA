{
 "cells": [
  {
   "cell_type": "markdown",
   "metadata": {},
   "source": [
    "# Cloud Computing for Data Analytics\n",
    "\n",
    "This course introduces participants to cluster and cloud computing big data ecosystems.\n",
    "Topics include a survey of cloud computing platforms, architectures, and use cases.\n",
    "Participants will examine scaling data science techniques and algorithms using a variety of cluster and cloud paradigms, such as those built atop Hadoop (Map-Reduce) concepts, and others."
   ]
  },
  {
   "cell_type": "markdown",
   "metadata": {},
   "source": [
    "## Course Module Schedule\n",
    "\n",
    "  1. [Cloud Computing Basics and Concepts](./module1/Schedule.ipynb)\n",
    "  2. [Amazon Web Services 1](./module2/Schedule.ipynb)\n",
    "  3. [Amazon Web Services 2](./module3/Schedule.ipynb)\n",
    "  4. [Amazon Web Services 3](./module4/Schedule.ipynb)\n",
    "  5. [Amazon Web Services 4](./module5/Schedule.ipynb)\n",
    "  6. [Google Cloud Platform 1](./module6/Schedule.ipynb)\n",
    "  7. [Google Cloud Platform 2](./module7/Schedule.ipynb)\n",
    "  8. [Final Project](./module8/Schedule.ipynb)\n",
    "     * Google Cloud Platform 3\n",
    "     * Operationalized Could Data Processing\n",
    "  \n",
    "### Weekly Module Download\n",
    "\n",
    "Each Monday morning, the new module will become available.\n",
    "You will be using Git Pull to acquire the module's learning activities.  \n",
    "Clicking on the modules above before the content is pulled is expected to give you a **404 Error**\n",
    "\n",
    "#### Steps:\n",
    "  1. Open Terminal in JupyterHub\n",
    "  1. Change into the course folder\n",
    "  1. Execute command:  \n",
    "  `git pull   --no-edit   upstream   master`"
   ]
  },
  {
   "cell_type": "markdown",
   "metadata": {},
   "source": [
    "## Technologies\n",
    "  * Amazon Web Services (AWS)\n",
    "  * Google Cloud Platform (GCP)\n",
    "  * Python\n",
    "  * Linux System Tools\n",
    "  * Virtual Machines\n",
    "  * Containers\n",
    "  * Cloud Storage Buckets\n",
    "  * Cloud Serverless Technologies"
   ]
  },
  {
   "cell_type": "markdown",
   "metadata": {},
   "source": [
    "## Weekly Module Schedule\n",
    "\n",
    "This is the suggested weekly schedule for each module\n",
    "\n",
    " + Saturday - Tuesday: Readings, Videos, Labs\n",
    " + Monday - Wednesday: Discussion Board Activities\n",
    " + Tuesday - Saturday: Weekly Practice-Exercise(s)\n",
    "\n",
    "All material will be released at the beginning of each module to allow you to work through the week and manage your time as needed.\n",
    "\n",
    "Module work will be collected midnight central time at the end of the Saturday after the exercise was assigned (typically 8 days).\n",
    "\n",
    "Work should be submitted by way of Git : Add, Commit, Push. More details will be provided in the learning activities on JupyterHub.\n",
    "\n",
    "**Note:** The exercises will be a hybrid practice-exercise. This is due to the complex nature of building data workflows within the cloud and other considerations for your time and the available resources.\n",
    "\n",
    "**Note:** Some work will require you to grant Instructor/TA access to cloud resource for verification/grading."
   ]
  },
  {
   "cell_type": "markdown",
   "metadata": {},
   "source": [
    "## Resources\n",
    "\n",
    "Each module will have reading links and resources.\n",
    "Please consult the weekly `Schedule` notebook for details and modular particulars."
   ]
  }
 ],
 "metadata": {
  "kernelspec": {
   "display_name": "Python 3",
   "language": "python",
   "name": "python3"
  },
  "language_info": {
   "codemirror_mode": {
    "name": "ipython",
    "version": 3
   },
   "file_extension": ".py",
   "mimetype": "text/x-python",
   "name": "python",
   "nbconvert_exporter": "python",
   "pygments_lexer": "ipython3",
   "version": "3.7.3"
  }
 },
 "nbformat": 4,
 "nbformat_minor": 2
}
