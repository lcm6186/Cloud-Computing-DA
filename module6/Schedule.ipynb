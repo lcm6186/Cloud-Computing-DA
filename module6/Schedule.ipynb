{
 "cells": [
  {
   "cell_type": "markdown",
   "metadata": {},
   "source": [
    "# Module 6 - Google Cloud Platform, Part 1\n",
    "\n",
    "In this module you will adapt your understanding of cloud technologies and resources to another cloud provider.\n",
    "Google Cloud Platform (GCP) is the cloud provider for the next couple modules.\n",
    "Many of the topics you have already learned about, such as Virtual Machines, Containers, and Storage Buckets, are also present in GCP.\n",
    "Just like in AWS, there are 1) console, 2) command line, and 3) API interfaces to the cloud resources. \n",
    "\n",
    "### CGP Accounts\n",
    "\n",
    "Good news!  This is pretty much done for you.  Just login to https://console.cloud.google.com/ using your pawprint@umsystem.edu  which uses the MU single sign-on credentials (same as email)."
   ]
  },
  {
   "cell_type": "markdown",
   "metadata": {},
   "source": [
    "## Module Topics\n",
    "\n",
    " * Google Cloud Platform (GCP)\n",
    " * Review of Cloud Resources\n",
    "   * VMs\n",
    "   * Containers\n",
    "   * Storage Buckets\n",
    "   * Etc\n",
    " * Utilizing cloud resources for data science tasks"
   ]
  },
  {
   "cell_type": "markdown",
   "metadata": {},
   "source": [
    "## Readings and Resources\n",
    "\n",
    "### Basics of GCP Infrastructure\n",
    "  * [GCP Overview](https://cloud.google.com/docs/overview/)\n",
    "  * [Virtual Machines, AKA Compute Engine](https://cloud.google.com/compute/docs/)\n",
    "    * **NOTE:** <span style=\"background:yellow\">We will use the preemptible VMs, which auto-shut-down at 24 hours!</span>\n",
    "  * [Containers, AKA Kubernetes Engine](https://cloud.google.com/kubernetes-engine/docs/)\n",
    "    * Further Reading: https://kubernetes.io/docs/tutorials/kubernetes-basics/\n",
    "    * **NOTE:** The DSA infrastructure is an _on premise_ kubernetes cluster!\n",
    "  * [Storage Containers, AKA Cloud Storage](https://cloud.google.com/storage/docs/)\n",
    "  * [Platform as a Service (PaaS), AKA Google App Engine](https://cloud.google.com/appengine/docs/python/)\n",
    "  \n"
   ]
  },
  {
   "cell_type": "markdown",
   "metadata": {},
   "source": [
    "## Labs\n",
    "\n",
    "\n",
    "### Compute Engine\n",
    "  * Preemptible VM Reading: https://cloud.google.com/compute/docs/instances/preemptible\n",
    "  * Our instance type will be: **n1-standard-1** or **f1-micro**, which will cost your credits up to \\$0.24 per day.\n",
    "  * [Compute Engine Console](./labs/ComputeEngineConsole.ipynb)\n",
    "  * [Compute Engine Command Line](./labs/ComputeEngineCLI.ipynb)"
   ]
  },
  {
   "cell_type": "markdown",
   "metadata": {},
   "source": [
    "### Cloud Storage\n",
    " * [Quick Cloud Storage Setup Tutorial](https://cloud.google.com/storage/docs/quickstart-console)\n",
    "   * Supplemental Reading: https://cloud.google.com/storage/docs/storage-classes"
   ]
  },
  {
   "cell_type": "markdown",
   "metadata": {},
   "source": [
    "### Big Query\n",
    " * [BigQuery Overview Reading](https://cloud.google.com/bigquery/)\n",
    " * [Quick BigQuery Tutorial](https://cloud.google.com/bigquery/quickstart-web-ui)  \n",
    " * [Reading: Tables and Views](https://cloud.google.com/bigquery/docs/datasets-tables-views)\n",
    " * [Reading: Data Loading](https://cloud.google.com/bigquery/docs/loading-data)\n",
    "   * [Additional Documentation](https://cloud.google.com/bigquery/docs/)"
   ]
  },
  {
   "cell_type": "markdown",
   "metadata": {},
   "source": [
    "\n",
    "### Container Engine\n",
    " * [Overview of Kubernetes and Containers](https://cloud.google.com/kubernetes-engine/)\n",
    " * [Quick Container Engine Tutorial](https://cloud.google.com/kubernetes-engine/docs/quickstart)\n",
    "   * As you get ready to start, please go to the GCP Console to find you **Project ID**.\n",
    "      * https://console.cloud.google.com/\n",
    "   "
   ]
  },
  {
   "cell_type": "markdown",
   "metadata": {},
   "source": [
    "## Practice-/-Exercises\n",
    "  * [Practice VM software installs and code API sample discovery](practices/StorageTestCode.ipynb)\n",
    "  * [Module 6 Exercises](exercises/Module6_exercises.ipynb)\n",
    "  \n",
    "**Please** ensure you are saving any code you are writing into the notebook so it does not get automatically cleaned up with your preemptible VM instance. "
   ]
  },
  {
   "cell_type": "markdown",
   "metadata": {},
   "source": [
    "## Submitting your work\n",
    "\n",
    "#### Steps:\n",
    "  1. Open Terminal in JupyterHub\n",
    "  1. Change into the course folder\n",
    "  1. Stage (Git Add) the module's practive and exercise work   \n",
    "  `git  add   module6/labs   module6/practices   module6/exercises`\n",
    "  1. Create your work snapshot (Git Commit)  \n",
    "  `git   commit   -m   \"Module 6 submission\"`\n",
    "  1. Upload the snapshot to the server (Git Push)  \n",
    "  `git   push`\n"
   ]
  },
  {
   "cell_type": "markdown",
   "metadata": {},
   "source": [
    "## Congratulations, you have completed the learning activities for this module!"
   ]
  }
 ],
 "metadata": {
  "kernelspec": {
   "display_name": "Python 3",
   "language": "python",
   "name": "python3"
  },
  "language_info": {
   "codemirror_mode": {
    "name": "ipython",
    "version": 3
   },
   "file_extension": ".py",
   "mimetype": "text/x-python",
   "name": "python",
   "nbconvert_exporter": "python",
   "pygments_lexer": "ipython3",
   "version": "3.7.3"
  }
 },
 "nbformat": 4,
 "nbformat_minor": 2
}
