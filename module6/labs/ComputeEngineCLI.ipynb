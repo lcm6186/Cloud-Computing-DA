{
 "cells": [
  {
   "cell_type": "markdown",
   "metadata": {},
   "source": [
    "# GCP Compute Engine CLI Example\n",
    "\n",
    "This notebook leverages the command you copied from your prior _preemptible VM_ lab.\n",
    "\n",
    "#### Recall:"
   ]
  },
  {
   "cell_type": "markdown",
   "metadata": {},
   "source": [
    "![GCP_Preemptible_Instance_CommandLine.png MISSING](../images/GCP_Preemptible_Instance_CommandLine.png)"
   ]
  },
  {
   "cell_type": "markdown",
   "metadata": {},
   "source": [
    "## Log into GCP Console and Open the GCP Shell\n",
    "\n",
    "Look for the icon **`[>_]`** in the top right, click to launch the Google Cloud Shell\n",
    "\n",
    "**NOTE:** Before you continue, note the **_Project ID_** in the Project Info panel below.\n",
    "This is often used for various command line operations.\n",
    "You will need it again for subsequent labs."
   ]
  },
  {
   "cell_type": "markdown",
   "metadata": {},
   "source": [
    "![GCP_GoogleCloudShell_Launch.png MISSING](../images/GCP_GoogleCloudShell_Launch.png)"
   ]
  },
  {
   "cell_type": "markdown",
   "metadata": {},
   "source": [
    "### The shell will take a moment to initialize!"
   ]
  },
  {
   "cell_type": "markdown",
   "metadata": {},
   "source": [
    "![GCP_GoogleCloudShell_2.png MISSING](../images/GCP_GoogleCloudShell_2.png)"
   ]
  },
  {
   "cell_type": "markdown",
   "metadata": {},
   "source": [
    "### You can type `help` to get help.... crazy!"
   ]
  },
  {
   "cell_type": "markdown",
   "metadata": {},
   "source": [
    "![GCP_GoogleCloudShell_3.png MISSING](../images/GCP_GoogleCloudShell_3.png)"
   ]
  },
  {
   "cell_type": "markdown",
   "metadata": {},
   "source": [
    "# Launch a VM using the command from earlier!\n",
    "\n",
    "Copy and paste the command from earlier into the Google Cloud Shell"
   ]
  },
  {
   "cell_type": "markdown",
   "metadata": {},
   "source": [
    "![GCP_GoogleCloudShell_4.png MISSING](../images/GCP_GoogleCloudShell_4.png)"
   ]
  },
  {
   "cell_type": "markdown",
   "metadata": {},
   "source": [
    "#### The result is a running VM!"
   ]
  },
  {
   "cell_type": "markdown",
   "metadata": {},
   "source": [
    "![GCP_GoogleCloudShell_5.png MISSING](../images/GCP_GoogleCloudShell_5.png)"
   ]
  },
  {
   "cell_type": "markdown",
   "metadata": {},
   "source": [
    "## Go to the GCP Console"
   ]
  },
  {
   "cell_type": "markdown",
   "metadata": {},
   "source": [
    "You may see the **Resources** card, or you may need to navigate to **Compute Engine**.  Don't forget that this semester the project name is \"UMC DSA 8420 FS2021\" - the below is merely an example.\n",
    "\n",
    "![GCP_GoogleCloudShell_Console_Resources.png MISSING](../images/GCP_GoogleCloudShell_Console_Resources.png)"
   ]
  },
  {
   "cell_type": "markdown",
   "metadata": {},
   "source": [
    "### Click on the Compute Engine \"1 instance\""
   ]
  },
  {
   "cell_type": "markdown",
   "metadata": {},
   "source": [
    "![GCP_GoogleCloudShell_Launched_VM.png MISSING](../images/GCP_GoogleCloudShell_Launched_VM.png)"
   ]
  },
  {
   "cell_type": "markdown",
   "metadata": {},
   "source": [
    "## Now, delete the VM as you did previously!"
   ]
  },
  {
   "cell_type": "markdown",
   "metadata": {},
   "source": [
    "## The commands in the Google Cloud Shell are leveraging the GCP Software Development Kit (SDK)\n",
    "\n",
    "Read about it here: https://cloud.google.com/sdk/docs/"
   ]
  }
 ],
 "metadata": {
  "kernelspec": {
   "display_name": "Python 3",
   "language": "python",
   "name": "python3"
  },
  "language_info": {
   "codemirror_mode": {
    "name": "ipython",
    "version": 3
   },
   "file_extension": ".py",
   "mimetype": "text/x-python",
   "name": "python",
   "nbconvert_exporter": "python",
   "pygments_lexer": "ipython3",
   "version": "3.7.3"
  }
 },
 "nbformat": 4,
 "nbformat_minor": 2
}
