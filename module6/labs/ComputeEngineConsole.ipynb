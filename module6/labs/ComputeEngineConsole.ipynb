{
 "cells": [
  {
   "cell_type": "markdown",
   "metadata": {},
   "source": [
    "# Creating a GCP VM that is Preemptible\n",
    "\n",
    "This lab accompanies the following GCP Link: https://cloud.google.com/compute/docs/instances/create-start-preemptible-instance\n",
    "\n",
    "Specifically, following the Preemptible VM Instructions\n",
    "![GCP_Preemptible_Instance_Instructions.png MISSING](../images/GCP_Preemptible_Instance_Instructions.png)\n",
    "\n",
    "**NOTE** <span style=\"background:yellow\">You must be using Google Chrome Browser for this lab!</span>\n",
    "\n",
    "**NOTE** <span style=\"background:yellow\">Do not create your own billing account - use the existing course billing account.  For this semester the course billing account is **UMC DSA 8420 FS2021**</span>\n",
    "<img src=\"../images/GCP_SP2021_Billing.png\" alt-text=\"GCP_SP2021_Billing.png MISSING\" />"
   ]
  },
  {
   "cell_type": "markdown",
   "metadata": {},
   "source": [
    "## Step 3. `Create a new instance`\n",
    "\n",
    "#### Name the instance `instance-1` ... or whatever you would like\n",
    "\n",
    "#### Select the `us-central1-c` Zone.\n",
    "\n",
    "#### Select the `f1-micro (1...` Machine / Instance Type from the `N1` Series"
   ]
  },
  {
   "cell_type": "markdown",
   "metadata": {},
   "source": [
    "\n",
    "\n",
    "![GCP_Preemptible_Instance_part1.png MISSING](../images/GCP_Preemptible_Instance_part1.png)"
   ]
  },
  {
   "cell_type": "markdown",
   "metadata": {},
   "source": [
    "### Step 4. `Boot Disk ; Identity and API access `\n",
    "#### Keep most these settings as they were"
   ]
  },
  {
   "cell_type": "markdown",
   "metadata": {},
   "source": [
    "\n",
    "\n",
    "\n",
    "![GCP_Preemptible_Instance_part2.png MISSING](../images/GCP_Preemptible_Instance_part2.png)"
   ]
  },
  {
   "cell_type": "markdown",
   "metadata": {},
   "source": [
    "### Step 5. `Management, security, disks, networking, sole tenancy`\n",
    "#### Change Preemptibility to _On_"
   ]
  },
  {
   "cell_type": "markdown",
   "metadata": {},
   "source": [
    "\n",
    "\n",
    "\n",
    "![GCP_Preemptible_Instance_part3.png MISSING](../images/GCP_Preemptible_Instance_part4.png)"
   ]
  },
  {
   "cell_type": "markdown",
   "metadata": {},
   "source": [
    "## <span style=\"background:red\">PAUSE</span> - BEFORE YOU CLICK CREATE"
   ]
  },
  {
   "cell_type": "markdown",
   "metadata": {},
   "source": [
    "\n",
    "\n",
    "\n",
    "\n",
    "![GCP_Preemptible_Instance_part5.png MISSING](../images/GCP_Preemptible_Instance_part5.png)"
   ]
  },
  {
   "cell_type": "markdown",
   "metadata": {},
   "source": [
    "### Click the the `command line` link\n",
    "\n",
    "#### This should pop up a modal with text similar to below:"
   ]
  },
  {
   "cell_type": "markdown",
   "metadata": {},
   "source": [
    "\n",
    "\n",
    "\n",
    "![GCP_Preemptible_Instance_CommandLine.png MISSING](../images/GCP_Preemptible_Instance_CommandLine.png)"
   ]
  },
  {
   "cell_type": "markdown",
   "metadata": {},
   "source": [
    "# <span style=\"background:yellow\">TODO:</span> Copy and Paste your Command Line in the Cell Below"
   ]
  },
  {
   "cell_type": "raw",
   "metadata": {},
   "source": [
    "### Paste Your Command from the Pop-Up here\n",
    "\n",
    "gcloud compute instances create instance-10-lcmhng --project=umc-dsa-8420-fs2021 --zone=us-central1-c --machine-type=f1-micro --network-interface=network-tier=PREMIUM,subnet=default --no-restart-on-failure --maintenance-policy=TERMINATE --preemptible --service-account=525670633000-compute@developer.gserviceaccount.com --scopes=https://www.googleapis.com/auth/devstorage.read_only,https://www.googleapis.com/auth/logging.write,https://www.googleapis.com/auth/monitoring.write,https://www.googleapis.com/auth/servicecontrol,https://www.googleapis.com/auth/service.management.readonly,https://www.googleapis.com/auth/trace.append --create-disk=auto-delete=yes,boot=yes,device-name=instance-10-lcmhng,image=projects/debian-cloud/global/images/debian-10-buster-v20211105,mode=rw,size=10,type=projects/umc-dsa-8420-fs2021/zones/us-central1-a/diskTypes/pd-balanced --no-shielded-secure-boot --shielded-vtpm --shielded-integrity-monitoring --reservation-affinity=any\n",
    "\n",
    "\n"
   ]
  },
  {
   "cell_type": "markdown",
   "metadata": {},
   "source": [
    "### Click the Create button, you are taken to the VM Instances console"
   ]
  },
  {
   "cell_type": "markdown",
   "metadata": {},
   "source": [
    "![GCP_Preemptible_Instance_part6.png MISSING](../images/GCP_Preemptible_Instance_part6.png)"
   ]
  },
  {
   "cell_type": "markdown",
   "metadata": {},
   "source": [
    "## Once the Instance is Ready, Connect via SSH"
   ]
  },
  {
   "cell_type": "markdown",
   "metadata": {},
   "source": [
    "![GCP_Preemptible_Instance_SSHAccess.png MISSING](../images/GCP_Preemptible_Instance_SSHAccess.png)"
   ]
  },
  {
   "cell_type": "markdown",
   "metadata": {},
   "source": [
    "Clicking the \"Open in browser window\" Option will load a new browser window with a terminal\n",
    "\n",
    "Once you have a prompt, type the following command to review the VM CPU Specifications.\n",
    "\n",
    "```Bash\n",
    "cat /proc/cpuinfo\n",
    "\n",
    "```\n",
    "\n",
    "This shows us we have a Intel Xeon CPU"
   ]
  },
  {
   "cell_type": "markdown",
   "metadata": {},
   "source": [
    "![GCP_Preemptible_Instance_Terminal.png MISSING](../images/GCP_Preemptible_Instance_Terminal.png)"
   ]
  },
  {
   "cell_type": "markdown",
   "metadata": {},
   "source": [
    "Type `exit` to close the connection to the VM!"
   ]
  },
  {
   "cell_type": "markdown",
   "metadata": {},
   "source": [
    "# Save your notebook!\n",
    "\n",
    "### In the next lab, you will repeat this process using the command line you copy-pasted into the cell earier.\n",
    "\n",
    "**NOTE:** If you skipped that step, you may have to restart from the top!"
   ]
  },
  {
   "cell_type": "markdown",
   "metadata": {},
   "source": [
    "# Clean up the Virtual Machine\n",
    "\n",
    "Select the checkbox next to you VM and then click the Delete option."
   ]
  },
  {
   "cell_type": "markdown",
   "metadata": {},
   "source": [
    "![GCP_Preemptible_Instance_Delete.png MISSING](../images/GCP_Preemptible_Instance_Delete.png)"
   ]
  },
  {
   "cell_type": "markdown",
   "metadata": {},
   "source": [
    "### Now Proceed to the _ComputeEngine Command Line_ lab!"
   ]
  }
 ],
 "metadata": {
  "kernelspec": {
   "display_name": "Python 3",
   "language": "python",
   "name": "python3"
  },
  "language_info": {
   "codemirror_mode": {
    "name": "ipython",
    "version": 3
   },
   "file_extension": ".py",
   "mimetype": "text/x-python",
   "name": "python",
   "nbconvert_exporter": "python",
   "pygments_lexer": "ipython3",
   "version": "3.7.3"
  }
 },
 "nbformat": 4,
 "nbformat_minor": 2
}
